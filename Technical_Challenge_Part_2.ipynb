{
  "nbformat": 4,
  "nbformat_minor": 0,
  "metadata": {
    "colab": {
      "name": "Technical-Challenge-Part-2.ipynb",
      "provenance": [],
      "authorship_tag": "ABX9TyP4PMv7UJXybWOTAGbCR7IY",
      "include_colab_link": true
    },
    "kernelspec": {
      "name": "python3",
      "display_name": "Python 3"
    },
    "language_info": {
      "name": "python"
    }
  },
  "cells": [
    {
      "cell_type": "markdown",
      "metadata": {
        "id": "view-in-github",
        "colab_type": "text"
      },
      "source": [
        "<a href=\"https://colab.research.google.com/github/carloslme/data-engineering-bootcamp/blob/main/Technical_Challenge_Part_2.ipynb\" target=\"_parent\"><img src=\"https://colab.research.google.com/assets/colab-badge.svg\" alt=\"Open In Colab\"/></a>"
      ]
    },
    {
      "cell_type": "markdown",
      "metadata": {
        "id": "ROo2QxHZG0iQ"
      },
      "source": [
        "# Introduction"
      ]
    },
    {
      "cell_type": "code",
      "metadata": {
        "id": "MmUikZwEG2cg"
      },
      "source": [
        ""
      ],
      "execution_count": null,
      "outputs": []
    },
    {
      "cell_type": "markdown",
      "metadata": {
        "id": "YWOgLdMsGIeZ"
      },
      "source": [
        "# Import dependencies"
      ]
    },
    {
      "cell_type": "code",
      "metadata": {
        "id": "Uu6K2hsVHCiA"
      },
      "source": [
        "# Common imports\n",
        "import numpy as np\n",
        "import os\n",
        "\n",
        "# Parquet imports\n",
        "import pyarrow as pa\n",
        "import pyarrow.parquet as pq\n",
        "\n",
        "# To plot pretty figures\n",
        "%matplotlib inline\n",
        "import matplotlib as mpl\n",
        "import matplotlib.pyplot as plt\n",
        "mpl.rc('axes', labelsize=14)\n",
        "mpl.rc('xtick', labelsize=12)\n",
        "mpl.rc('ytick', labelsize=12)\n",
        "\n",
        "\n",
        "import pandas as pd\n",
        "import seaborn as sns\n",
        "import warnings\n",
        "warnings.simplefilter(action='ignore', category=FutureWarning)"
      ],
      "execution_count": 1,
      "outputs": []
    },
    {
      "cell_type": "markdown",
      "metadata": {
        "id": "2kFPeNAhFy3U"
      },
      "source": [
        "# Processing sample data"
      ]
    },
    {
      "cell_type": "markdown",
      "metadata": {
        "id": "WWA4rM2v-MPn"
      },
      "source": [
        "## Getting sample data"
      ]
    },
    {
      "cell_type": "code",
      "metadata": {
        "colab": {
          "base_uri": "https://localhost:8080/"
        },
        "id": "SGwjhYTIF0nA",
        "outputId": "435af814-aa9f-4916-b3b9-2cf17d829d2a"
      },
      "source": [
        "!git clone https://github.com/wizelineacademy/data-engineering-bootcamp.git"
      ],
      "execution_count": null,
      "outputs": [
        {
          "output_type": "stream",
          "name": "stdout",
          "text": [
            "Cloning into 'data-engineering-bootcamp'...\n",
            "remote: Enumerating objects: 21, done.\u001b[K\n",
            "remote: Counting objects: 100% (21/21), done.\u001b[K\n",
            "remote: Compressing objects: 100% (15/15), done.\u001b[K\n",
            "remote: Total 21 (delta 5), reused 15 (delta 3), pack-reused 0\u001b[K\n",
            "Unpacking objects: 100% (21/21), done.\n"
          ]
        }
      ]
    },
    {
      "cell_type": "markdown",
      "metadata": {
        "id": "AVb0IBYrHIVL"
      },
      "source": [
        "## Exploratory analysis for sample data"
      ]
    },
    {
      "cell_type": "code",
      "metadata": {
        "colab": {
          "base_uri": "https://localhost:8080/",
          "height": 513
        },
        "id": "L0l5RIt6HNO8",
        "outputId": "997efd62-0338-41fa-f396-014ac3410b83"
      },
      "source": [
        "df = pd.read_csv('/content/data-engineering-bootcamp/data/sample.csv')\n",
        "df.head(5)"
      ],
      "execution_count": null,
      "outputs": [
        {
          "output_type": "execute_result",
          "data": {
            "text/html": [
              "<div>\n",
              "<style scoped>\n",
              "    .dataframe tbody tr th:only-of-type {\n",
              "        vertical-align: middle;\n",
              "    }\n",
              "\n",
              "    .dataframe tbody tr th {\n",
              "        vertical-align: top;\n",
              "    }\n",
              "\n",
              "    .dataframe thead th {\n",
              "        text-align: right;\n",
              "    }\n",
              "</style>\n",
              "<table border=\"1\" class=\"dataframe\">\n",
              "  <thead>\n",
              "    <tr style=\"text-align: right;\">\n",
              "      <th></th>\n",
              "      <th>producto</th>\n",
              "      <th>presentacion</th>\n",
              "      <th>marca</th>\n",
              "      <th>categoria</th>\n",
              "      <th>catalogo</th>\n",
              "      <th>precio</th>\n",
              "      <th>fechaRegistro</th>\n",
              "      <th>cadenaComercial</th>\n",
              "      <th>giro</th>\n",
              "      <th>nombreComercial</th>\n",
              "      <th>direccion</th>\n",
              "      <th>estado</th>\n",
              "      <th>municipio</th>\n",
              "      <th>latitud</th>\n",
              "      <th>longitud</th>\n",
              "    </tr>\n",
              "  </thead>\n",
              "  <tbody>\n",
              "    <tr>\n",
              "      <th>0</th>\n",
              "      <td>CUADERNO FORMA ITALIANA</td>\n",
              "      <td>96 HOJAS PASTA DURA. CUADRICULA CHICA</td>\n",
              "      <td>ESTRELLA</td>\n",
              "      <td>MATERIAL ESCOLAR</td>\n",
              "      <td>UTILES ESCOLARES</td>\n",
              "      <td>25.9</td>\n",
              "      <td>2011-05-18 00:00:00.000</td>\n",
              "      <td>ABASTECEDORA LUMEN</td>\n",
              "      <td>PAPELERIAS</td>\n",
              "      <td>ABASTECEDORA LUMEN SUCURSAL VILLA COAPA</td>\n",
              "      <td>CANNES No. 6 ESQ. CANAL DE MIRAMONTES</td>\n",
              "      <td>DISTRITO FEDERAL</td>\n",
              "      <td>TLALPAN</td>\n",
              "      <td>19.29699</td>\n",
              "      <td>-99.125417</td>\n",
              "    </tr>\n",
              "    <tr>\n",
              "      <th>1</th>\n",
              "      <td>CRAYONES</td>\n",
              "      <td>CAJA 12 CERAS. JUMBO. C.B. 201423</td>\n",
              "      <td>CRAYOLA</td>\n",
              "      <td>MATERIAL ESCOLAR</td>\n",
              "      <td>UTILES ESCOLARES</td>\n",
              "      <td>27.5</td>\n",
              "      <td>2011-05-18 00:00:00.000</td>\n",
              "      <td>ABASTECEDORA LUMEN</td>\n",
              "      <td>PAPELERIAS</td>\n",
              "      <td>ABASTECEDORA LUMEN SUCURSAL VILLA COAPA</td>\n",
              "      <td>CANNES No. 6 ESQ. CANAL DE MIRAMONTES</td>\n",
              "      <td>DISTRITO FEDERAL</td>\n",
              "      <td>TLALPAN</td>\n",
              "      <td>19.29699</td>\n",
              "      <td>-99.125417</td>\n",
              "    </tr>\n",
              "    <tr>\n",
              "      <th>2</th>\n",
              "      <td>CRAYONES</td>\n",
              "      <td>CAJA 12 CERAS. TAMANO REGULAR C.B. 201034</td>\n",
              "      <td>CRAYOLA</td>\n",
              "      <td>MATERIAL ESCOLAR</td>\n",
              "      <td>UTILES ESCOLARES</td>\n",
              "      <td>13.9</td>\n",
              "      <td>2011-05-18 00:00:00.000</td>\n",
              "      <td>ABASTECEDORA LUMEN</td>\n",
              "      <td>PAPELERIAS</td>\n",
              "      <td>ABASTECEDORA LUMEN SUCURSAL VILLA COAPA</td>\n",
              "      <td>CANNES No. 6 ESQ. CANAL DE MIRAMONTES</td>\n",
              "      <td>DISTRITO FEDERAL</td>\n",
              "      <td>TLALPAN</td>\n",
              "      <td>19.29699</td>\n",
              "      <td>-99.125417</td>\n",
              "    </tr>\n",
              "    <tr>\n",
              "      <th>3</th>\n",
              "      <td>COLORES DE MADERA</td>\n",
              "      <td>CAJA 12 PIEZAS LARGO. TRIANGULAR. C.B. 640646</td>\n",
              "      <td>PINCELIN</td>\n",
              "      <td>MATERIAL ESCOLAR</td>\n",
              "      <td>UTILES ESCOLARES</td>\n",
              "      <td>46.9</td>\n",
              "      <td>2011-05-18 00:00:00.000</td>\n",
              "      <td>ABASTECEDORA LUMEN</td>\n",
              "      <td>PAPELERIAS</td>\n",
              "      <td>ABASTECEDORA LUMEN SUCURSAL VILLA COAPA</td>\n",
              "      <td>CANNES No. 6 ESQ. CANAL DE MIRAMONTES</td>\n",
              "      <td>DISTRITO FEDERAL</td>\n",
              "      <td>TLALPAN</td>\n",
              "      <td>19.29699</td>\n",
              "      <td>-99.125417</td>\n",
              "    </tr>\n",
              "    <tr>\n",
              "      <th>4</th>\n",
              "      <td>COLOR LARGO</td>\n",
              "      <td>CAJA 36 PIEZAS. CON SACAPUNTAS. 68-4036</td>\n",
              "      <td>CRAYOLA</td>\n",
              "      <td>MATERIAL ESCOLAR</td>\n",
              "      <td>UTILES ESCOLARES</td>\n",
              "      <td>115.0</td>\n",
              "      <td>2011-05-18 00:00:00.000</td>\n",
              "      <td>ABASTECEDORA LUMEN</td>\n",
              "      <td>PAPELERIAS</td>\n",
              "      <td>ABASTECEDORA LUMEN SUCURSAL VILLA COAPA</td>\n",
              "      <td>CANNES No. 6 ESQ. CANAL DE MIRAMONTES</td>\n",
              "      <td>DISTRITO FEDERAL</td>\n",
              "      <td>TLALPAN</td>\n",
              "      <td>19.29699</td>\n",
              "      <td>-99.125417</td>\n",
              "    </tr>\n",
              "  </tbody>\n",
              "</table>\n",
              "</div>"
            ],
            "text/plain": [
              "                  producto  ...   longitud\n",
              "0  CUADERNO FORMA ITALIANA  ... -99.125417\n",
              "1                 CRAYONES  ... -99.125417\n",
              "2                 CRAYONES  ... -99.125417\n",
              "3        COLORES DE MADERA  ... -99.125417\n",
              "4              COLOR LARGO  ... -99.125417\n",
              "\n",
              "[5 rows x 15 columns]"
            ]
          },
          "metadata": {},
          "execution_count": 18
        }
      ]
    },
    {
      "cell_type": "code",
      "metadata": {
        "colab": {
          "base_uri": "https://localhost:8080/",
          "height": 297
        },
        "id": "vgmpMUVHdf89",
        "outputId": "fda1e869-5f79-42c2-e979-5c0102c20b9e"
      },
      "source": [
        "df.describe()"
      ],
      "execution_count": null,
      "outputs": [
        {
          "output_type": "execute_result",
          "data": {
            "text/html": [
              "<div>\n",
              "<style scoped>\n",
              "    .dataframe tbody tr th:only-of-type {\n",
              "        vertical-align: middle;\n",
              "    }\n",
              "\n",
              "    .dataframe tbody tr th {\n",
              "        vertical-align: top;\n",
              "    }\n",
              "\n",
              "    .dataframe thead th {\n",
              "        text-align: right;\n",
              "    }\n",
              "</style>\n",
              "<table border=\"1\" class=\"dataframe\">\n",
              "  <thead>\n",
              "    <tr style=\"text-align: right;\">\n",
              "      <th></th>\n",
              "      <th>precio</th>\n",
              "      <th>latitud</th>\n",
              "      <th>longitud</th>\n",
              "    </tr>\n",
              "  </thead>\n",
              "  <tbody>\n",
              "    <tr>\n",
              "      <th>count</th>\n",
              "      <td>1999.000000</td>\n",
              "      <td>1229.000000</td>\n",
              "      <td>1229.000000</td>\n",
              "    </tr>\n",
              "    <tr>\n",
              "      <th>mean</th>\n",
              "      <td>293.945953</td>\n",
              "      <td>19.399105</td>\n",
              "      <td>-99.185158</td>\n",
              "    </tr>\n",
              "    <tr>\n",
              "      <th>std</th>\n",
              "      <td>1270.865893</td>\n",
              "      <td>0.048795</td>\n",
              "      <td>0.032065</td>\n",
              "    </tr>\n",
              "    <tr>\n",
              "      <th>min</th>\n",
              "      <td>1.200000</td>\n",
              "      <td>19.296990</td>\n",
              "      <td>-99.233180</td>\n",
              "    </tr>\n",
              "    <tr>\n",
              "      <th>25%</th>\n",
              "      <td>13.500000</td>\n",
              "      <td>19.366903</td>\n",
              "      <td>-99.181344</td>\n",
              "    </tr>\n",
              "    <tr>\n",
              "      <th>50%</th>\n",
              "      <td>26.100000</td>\n",
              "      <td>19.366903</td>\n",
              "      <td>-99.181344</td>\n",
              "    </tr>\n",
              "    <tr>\n",
              "      <th>75%</th>\n",
              "      <td>56.100000</td>\n",
              "      <td>19.400879</td>\n",
              "      <td>-99.181344</td>\n",
              "    </tr>\n",
              "    <tr>\n",
              "      <th>max</th>\n",
              "      <td>13497.000000</td>\n",
              "      <td>19.483909</td>\n",
              "      <td>-99.125417</td>\n",
              "    </tr>\n",
              "  </tbody>\n",
              "</table>\n",
              "</div>"
            ],
            "text/plain": [
              "             precio      latitud     longitud\n",
              "count   1999.000000  1229.000000  1229.000000\n",
              "mean     293.945953    19.399105   -99.185158\n",
              "std     1270.865893     0.048795     0.032065\n",
              "min        1.200000    19.296990   -99.233180\n",
              "25%       13.500000    19.366903   -99.181344\n",
              "50%       26.100000    19.366903   -99.181344\n",
              "75%       56.100000    19.400879   -99.181344\n",
              "max    13497.000000    19.483909   -99.125417"
            ]
          },
          "metadata": {},
          "execution_count": 16
        }
      ]
    },
    {
      "cell_type": "code",
      "metadata": {
        "colab": {
          "base_uri": "https://localhost:8080/"
        },
        "id": "8izv4wJ9dlLF",
        "outputId": "598916d3-8555-4ec9-a97a-187a4c8f710b"
      },
      "source": [
        "df.columns"
      ],
      "execution_count": null,
      "outputs": [
        {
          "output_type": "execute_result",
          "data": {
            "text/plain": [
              "Index(['producto', 'presentacion', 'marca', 'categoria', 'catalogo', 'precio',\n",
              "       'fechaRegistro', 'cadenaComercial', 'giro', 'nombreComercial',\n",
              "       'direccion', 'estado', 'municipio', 'latitud', 'longitud'],\n",
              "      dtype='object')"
            ]
          },
          "metadata": {},
          "execution_count": 14
        }
      ]
    },
    {
      "cell_type": "code",
      "metadata": {
        "colab": {
          "base_uri": "https://localhost:8080/"
        },
        "id": "LPfyafDXdrTm",
        "outputId": "5d84fbd8-e8da-4516-a31d-aa7b40d84d9c"
      },
      "source": [
        "df.info()"
      ],
      "execution_count": null,
      "outputs": [
        {
          "output_type": "stream",
          "name": "stdout",
          "text": [
            "<class 'pandas.core.frame.DataFrame'>\n",
            "RangeIndex: 1999 entries, 0 to 1998\n",
            "Data columns (total 15 columns):\n",
            " #   Column           Non-Null Count  Dtype  \n",
            "---  ------           --------------  -----  \n",
            " 0   producto         1999 non-null   object \n",
            " 1   presentacion     1999 non-null   object \n",
            " 2   marca            1999 non-null   object \n",
            " 3   categoria        1999 non-null   object \n",
            " 4   catalogo         1999 non-null   object \n",
            " 5   precio           1999 non-null   float64\n",
            " 6   fechaRegistro    1999 non-null   object \n",
            " 7   cadenaComercial  1999 non-null   object \n",
            " 8   giro             1999 non-null   object \n",
            " 9   nombreComercial  1999 non-null   object \n",
            " 10  direccion        1999 non-null   object \n",
            " 11  estado           1999 non-null   object \n",
            " 12  municipio        1999 non-null   object \n",
            " 13  latitud          1229 non-null   float64\n",
            " 14  longitud         1229 non-null   float64\n",
            "dtypes: float64(3), object(12)\n",
            "memory usage: 234.4+ KB\n"
          ]
        }
      ]
    },
    {
      "cell_type": "markdown",
      "metadata": {
        "id": "FsyxtXyYetG5"
      },
      "source": [
        "## Exploring numerical features"
      ]
    },
    {
      "cell_type": "code",
      "metadata": {
        "colab": {
          "base_uri": "https://localhost:8080/",
          "height": 849
        },
        "id": "_xePMXa4evCt",
        "outputId": "734f0655-eca0-4331-d636-af440d1a0277"
      },
      "source": [
        "sns.set(rc={'figure.figsize':(20,10)})\n",
        "\n",
        "sns.countplot('precio', data=df)\n",
        "plt.title('Precio', fontsize=14)\n",
        "plt.plot()\n",
        "\n",
        "print('Precio Count')\n",
        "df['precio'].value_counts()"
      ],
      "execution_count": null,
      "outputs": [
        {
          "output_type": "stream",
          "name": "stdout",
          "text": [
            "Precio Count\n"
          ]
        },
        {
          "output_type": "execute_result",
          "data": {
            "text/plain": [
              "15.90     17\n",
              "29.90     12\n",
              "49.90     12\n",
              "12.50     11\n",
              "13.50     11\n",
              "          ..\n",
              "19.75      1\n",
              "171.47     1\n",
              "218.00     1\n",
              "36.50      1\n",
              "31.65      1\n",
              "Name: precio, Length: 1014, dtype: int64"
            ]
          },
          "metadata": {},
          "execution_count": 23
        },
        {
          "output_type": "display_data",
          "data": {
            "image/png": "[encoded data removed]",
            "text/plain": [
              "<Figure size 1440x720 with 1 Axes>"
            ]
          },
          "metadata": {}
        }
      ]
    },
    {
      "cell_type": "markdown",
      "metadata": {
        "id": "ulrLGztBgzjv"
      },
      "source": [
        "## Exploring text features\n",
        " * producto - object \n",
        " * presentacion - object \n",
        " * marca - object \n",
        " * categoria - object \n",
        " * catalogo - object \n",
        " * fechaRegistro - object \n",
        " * cadenaComercial - object \n",
        " * giro - object \n",
        " * nombreComercial - object \n",
        " * direccion - object \n",
        " * estado - object \n",
        " * municipio - object "
      ]
    },
    {
      "cell_type": "markdown",
      "metadata": {
        "id": "Q3IZDVtZiZ_s"
      },
      "source": [
        "Feature `producto`"
      ]
    },
    {
      "cell_type": "code",
      "metadata": {
        "colab": {
          "base_uri": "https://localhost:8080/"
        },
        "id": "Jb6NAtPGg_GP",
        "outputId": "c80a5b5a-804d-48c3-ff59-78898c497eeb"
      },
      "source": [
        "print('INFO: There are {} categories in the feature `producto`.'.format(len(df.producto.value_counts())))\n",
        "print('INFO: Some examples')\n",
        "df.producto.value_counts()"
      ],
      "execution_count": null,
      "outputs": [
        {
          "output_type": "stream",
          "name": "stdout",
          "text": [
            "INFO: There are 330 categories in the feature `producto`.\n",
            "INFO: Some examples\n"
          ]
        },
        {
          "output_type": "execute_result",
          "data": {
            "text/plain": [
              "DETERGENTE P/ROPA          49\n",
              "REFRESCO                   48\n",
              "LECHE ULTRAPASTEURIZADA    40\n",
              "CHILES EN LATA             39\n",
              "MAYONESA                   37\n",
              "                           ..\n",
              "CAPOTENA                    1\n",
              "DICLOXACILINA               1\n",
              "CAMARON SECO                1\n",
              "CISAPRIDA                   1\n",
              "VILONA                      1\n",
              "Name: producto, Length: 330, dtype: int64"
            ]
          },
          "metadata": {},
          "execution_count": 37
        }
      ]
    },
    {
      "cell_type": "markdown",
      "metadata": {
        "id": "R5A4IHZoifVu"
      },
      "source": [
        "Feature `presentacion`"
      ]
    },
    {
      "cell_type": "code",
      "metadata": {
        "colab": {
          "base_uri": "https://localhost:8080/"
        },
        "id": "TI_7cP9CiiEY",
        "outputId": "b32ca933-b864-4753-e79a-5a4c0a4b0f29"
      },
      "source": [
        "print('INFO: There are {} categories in the feature `presentacion`.'.format(len(df.presentacion.value_counts())))\n",
        "print('INFO: Some examples')\n",
        "df.presentacion.value_counts()"
      ],
      "execution_count": null,
      "outputs": [
        {
          "output_type": "stream",
          "name": "stdout",
          "text": [
            "INFO: There are 767 categories in the feature `presentacion`.\n",
            "INFO: Some examples\n"
          ]
        },
        {
          "output_type": "execute_result",
          "data": {
            "text/plain": [
              "1 KG. GRANEL                                                                                            27\n",
              "1 KG.                                                                                                   19\n",
              "CAJA                                                                                                    16\n",
              "BOLSA 1 KG. POLVO                                                                                       15\n",
              "BOLSA 400 GR.                                                                                           14\n",
              "                                                                                                        ..\n",
              "TRANSPARENTE DE 25 A 100 WATTS                                                                           1\n",
              "SDR-T51. FORMATO MEMORIA INTERNA. ZOOM OPTICO DIGITAL 78X/N/I. FUNCION DE CAMARA DIGITAL. PUERTO USB     1\n",
              "W200. VAPOR. SUELA ANTIADHERENTE                                                                         1\n",
              "CAJA CON 10 TABLETAS 10 MG.                                                                              1\n",
              "SUBITO (TO102150)                                                                                        1\n",
              "Name: presentacion, Length: 767, dtype: int64"
            ]
          },
          "metadata": {},
          "execution_count": 35
        }
      ]
    },
    {
      "cell_type": "markdown",
      "metadata": {
        "id": "0Ey4zk82j-c9"
      },
      "source": [
        "Feature `marca`"
      ]
    },
    {
      "cell_type": "code",
      "metadata": {
        "colab": {
          "base_uri": "https://localhost:8080/"
        },
        "id": "nqRwFDz6kJwF",
        "outputId": "790ea6d3-cc4d-4830-d98b-464e92eec319"
      },
      "source": [
        "print('INFO: There are {} categories in the feature `marca`.'.format(len(df.marca.value_counts())))\n",
        "print('INFO: Some examples')\n",
        "df.marca.value_counts()"
      ],
      "execution_count": null,
      "outputs": [
        {
          "output_type": "stream",
          "name": "stdout",
          "text": [
            "INFO: There are 395 categories in the feature `marca`.\n",
            "INFO: Some examples\n"
          ]
        },
        {
          "output_type": "execute_result",
          "data": {
            "text/plain": [
              "S/M                      397\n",
              "LA COSTENA                62\n",
              "SONY                      28\n",
              "HERDEZ                    28\n",
              "SIN MARCA                 28\n",
              "                        ... \n",
              "MERCK-MEXICO, S.A.         1\n",
              "ZWAN                       1\n",
              "BOHEMIA.                   1\n",
              "MORELIA. PRESIDENCIAL      1\n",
              "ALBERTO. VO5               1\n",
              "Name: marca, Length: 395, dtype: int64"
            ]
          },
          "metadata": {},
          "execution_count": 38
        }
      ]
    },
    {
      "cell_type": "markdown",
      "metadata": {
        "id": "8_ux5HJtk0Oc"
      },
      "source": [
        "Feature `categoria`"
      ]
    },
    {
      "cell_type": "code",
      "metadata": {
        "colab": {
          "base_uri": "https://localhost:8080/"
        },
        "id": "RfzYIroMk3L8",
        "outputId": "bc1781ad-822b-45ad-edfc-4513c1ca973b"
      },
      "source": [
        "print('INFO: There are {} categories in the feature `categoria`.'.format(len(df.categoria.value_counts())))\n",
        "print('INFO: Some examples')\n",
        "df.categoria.value_counts()"
      ],
      "execution_count": null,
      "outputs": [
        {
          "output_type": "stream",
          "name": "stdout",
          "text": [
            "INFO: There are 36 categories in the feature `categoria`.\n",
            "INFO: Some examples\n"
          ]
        },
        {
          "output_type": "execute_result",
          "data": {
            "text/plain": [
              "ARTS. PARA EL CUIDADO PERSONAL        197\n",
              "CARNES FRIAS SECAS Y EMBUTIDOS        136\n",
              "DETERGENTES Y PRODUCTOS SIMILARES     124\n",
              "FRUTAS Y LEGUMBRES PROCESADAS         124\n",
              "CONDIMENTOS                           123\n",
              "MEDICAMENTOS                          122\n",
              "DERIVADOS DE LECHE                    117\n",
              "REFRESCOS ENVASADOS                    95\n",
              "LECHE PROCESADA                        92\n",
              "ARTS. DE PAPEL P/HIGIENE PERSONAL      82\n",
              "HORTALIZAS FRESCAS                     80\n",
              "APARATOS ELECTRONICOS                  80\n",
              "GALLETAS PASTAS Y HARINAS DE TRIGO     68\n",
              "CHOCOLATES Y GOLOSINAS                 63\n",
              "APARATOS ELECTRICOS                    60\n",
              "ACEITES Y GRASAS VEG. COMESTIBLES      54\n",
              "FRUTAS FRESCAS                         46\n",
              "ARROZ Y CEREALES PREPARADOS            46\n",
              "PRODUCTOS DE TEMPORADA (NAVIDEÐOS)     44\n",
              "CAFE                                   33\n",
              "LEGUMBRES SECAS                        33\n",
              "PAN                                    26\n",
              "CERVEZA                                25\n",
              "PESCADOS Y MARISCOS EN CONSERVA        23\n",
              "CARNE Y VISCERAS DE RES                18\n",
              "TORTILLAS Y DERIVADOS DEL MAIZ         17\n",
              "HUEVO                                  17\n",
              "CARNE Y VISCERAS DE CERDO              15\n",
              "MATERIAL ESCOLAR                        9\n",
              "ACCESORIOS DOMESTICOS                   9\n",
              "CARNE DE AVE                            8\n",
              "AZUCAR                                  5\n",
              "MUEBLES DE COCINA                       3\n",
              "TE                                      2\n",
              "PESCADOS Y MARISCOS                     2\n",
              "UTENSILIOS DOMESTICOS                   1\n",
              "Name: categoria, dtype: int64"
            ]
          },
          "metadata": {},
          "execution_count": 39
        }
      ]
    },
    {
      "cell_type": "markdown",
      "metadata": {
        "id": "sZqTfzRHk-xx"
      },
      "source": [
        "Feature `catalogo`"
      ]
    },
    {
      "cell_type": "code",
      "metadata": {
        "colab": {
          "base_uri": "https://localhost:8080/"
        },
        "id": "CSoZYTMClEhH",
        "outputId": "daf63284-f726-4958-bbf3-0f2518e2afd1"
      },
      "source": [
        "print('INFO: There are {} categories in the feature `catalogo`.'.format(len(df.catalogo.value_counts())))\n",
        "print('INFO: Some examples')\n",
        "df.catalogo.value_counts()"
      ],
      "execution_count": null,
      "outputs": [
        {
          "output_type": "stream",
          "name": "stdout",
          "text": [
            "INFO: There are 6 categories in the feature `catalogo`.\n",
            "INFO: Some examples\n"
          ]
        },
        {
          "output_type": "execute_result",
          "data": {
            "text/plain": [
              "BASICOS               1393\n",
              "MERCADOS               206\n",
              "ELECTRODOMESTICOS      144\n",
              "FRUTAS Y LEGUMBRES     124\n",
              "MEDICAMENTOS           123\n",
              "UTILES ESCOLARES         9\n",
              "Name: catalogo, dtype: int64"
            ]
          },
          "metadata": {},
          "execution_count": 40
        }
      ]
    },
    {
      "cell_type": "markdown",
      "metadata": {
        "id": "LAkdOq8xlh1z"
      },
      "source": [
        "Feature `fechaRegistro`"
      ]
    },
    {
      "cell_type": "code",
      "metadata": {
        "colab": {
          "base_uri": "https://localhost:8080/"
        },
        "id": "MCRQtW-allrP",
        "outputId": "a2d9fa41-d975-40dc-ca2e-d941d5e701a5"
      },
      "source": [
        "print('INFO: There are {} categories in the feature `fechaRegistro`.'.format(len(df.fechaRegistro.value_counts())))\n",
        "print('INFO: Some examples')\n",
        "df.fechaRegistro.value_counts()"
      ],
      "execution_count": null,
      "outputs": [
        {
          "output_type": "stream",
          "name": "stdout",
          "text": [
            "INFO: There are 2 categories in the feature `fechaRegistro`.\n",
            "INFO: Some examples\n"
          ]
        },
        {
          "output_type": "execute_result",
          "data": {
            "text/plain": [
              "2011-01-10 00:00:00.000    1990\n",
              "2011-05-18 00:00:00.000       9\n",
              "Name: fechaRegistro, dtype: int64"
            ]
          },
          "metadata": {},
          "execution_count": 41
        }
      ]
    },
    {
      "cell_type": "markdown",
      "metadata": {
        "id": "TB4vTlj_lnAO"
      },
      "source": [
        "Feature `cadenaComercial`"
      ]
    },
    {
      "cell_type": "code",
      "metadata": {
        "colab": {
          "base_uri": "https://localhost:8080/"
        },
        "id": "u7AXXP_InfeU",
        "outputId": "ac1fd455-13b8-47e0-9c3e-640f74289b0e"
      },
      "source": [
        "print('INFO: There are {} categories in the feature `cadenaComercial`.'.format(len(df.cadenaComercial.value_counts())))\n",
        "print('INFO: Some examples')\n",
        "df.cadenaComercial.value_counts()"
      ],
      "execution_count": null,
      "outputs": [
        {
          "output_type": "stream",
          "name": "stdout",
          "text": [
            "INFO: There are 4 categories in the feature `cadenaComercial`.\n",
            "INFO: Some examples\n"
          ]
        },
        {
          "output_type": "execute_result",
          "data": {
            "text/plain": [
              "COMERCIAL MEXICANA    1508\n",
              "WAL-MART               287\n",
              "I.S.S.S.T.E.           195\n",
              "ABASTECEDORA LUMEN       9\n",
              "Name: cadenaComercial, dtype: int64"
            ]
          },
          "metadata": {},
          "execution_count": 42
        }
      ]
    },
    {
      "cell_type": "markdown",
      "metadata": {
        "id": "UlyV1Iqfltw-"
      },
      "source": [
        "Feature `giro`"
      ]
    },
    {
      "cell_type": "code",
      "metadata": {
        "colab": {
          "base_uri": "https://localhost:8080/"
        },
        "id": "iGgXliPunjls",
        "outputId": "55f90802-1be0-4736-c8a5-5527e1dfe861"
      },
      "source": [
        "print('INFO: There are {} categories in the feature `giro`.'.format(len(df.giro.value_counts())))\n",
        "print('INFO: Some examples')\n",
        "df.giro.value_counts()"
      ],
      "execution_count": null,
      "outputs": [
        {
          "output_type": "stream",
          "name": "stdout",
          "text": [
            "INFO: There are 2 categories in the feature `giro`.\n",
            "INFO: Some examples\n"
          ]
        },
        {
          "output_type": "execute_result",
          "data": {
            "text/plain": [
              "TIENDA DE AUTOSERVICIO    1990\n",
              "PAPELERIAS                   9\n",
              "Name: giro, dtype: int64"
            ]
          },
          "metadata": {},
          "execution_count": 43
        }
      ]
    },
    {
      "cell_type": "markdown",
      "metadata": {
        "id": "vMuj_Ws8mXIa"
      },
      "source": [
        "Feature `nombreComercial`"
      ]
    },
    {
      "cell_type": "code",
      "metadata": {
        "colab": {
          "base_uri": "https://localhost:8080/"
        },
        "id": "3WlVPrksnoUI",
        "outputId": "6aa388d1-c956-4742-9bca-8998bdb31839"
      },
      "source": [
        "print('INFO: There are {} categories in the feature `nombreComercial`.'.format(len(df.nombreComercial.value_counts())))\n",
        "print('INFO: Some examples')\n",
        "df.nombreComercial.value_counts()"
      ],
      "execution_count": null,
      "outputs": [
        {
          "output_type": "stream",
          "name": "stdout",
          "text": [
            "INFO: There are 5 categories in the feature `nombreComercial`.\n",
            "INFO: Some examples\n"
          ]
        },
        {
          "output_type": "execute_result",
          "data": {
            "text/plain": [
              "COMERCIAL MEXICANA SUCURSAL VILLAS DE LA HACIENDA    770\n",
              "COMERCIAL MEXICANA SUCURSAL INSURGENTES              738\n",
              "WAL MART SUCURSAL ECHEGARAY                          287\n",
              "I.S.S.S.T.E. SUCURSAL 7                              195\n",
              "ABASTECEDORA LUMEN SUCURSAL VILLA COAPA                9\n",
              "Name: nombreComercial, dtype: int64"
            ]
          },
          "metadata": {},
          "execution_count": 44
        }
      ]
    },
    {
      "cell_type": "markdown",
      "metadata": {
        "id": "bJmX3dFSmY2X"
      },
      "source": [
        "Feature `direccion`"
      ]
    },
    {
      "cell_type": "code",
      "metadata": {
        "colab": {
          "base_uri": "https://localhost:8080/"
        },
        "id": "X51qEGPooLj_",
        "outputId": "59e02188-973e-48a6-bbf2-fa303cecb34c"
      },
      "source": [
        "print('INFO: There are {} categories in the feature `direccion`.'.format(len(df.direccion.value_counts())))\n",
        "print('INFO: Some examples')\n",
        "df.direccion.value_counts()"
      ],
      "execution_count": null,
      "outputs": [
        {
          "output_type": "stream",
          "name": "stdout",
          "text": [
            "INFO: There are 5 categories in the feature `direccion`.\n",
            "INFO: Some examples\n"
          ]
        },
        {
          "output_type": "execute_result",
          "data": {
            "text/plain": [
              "AV. LAGO DE GUADALUPE S/N ESQ. DE LAS VILLAS            770\n",
              "PERPETUA NO. 35 ESQ. INSURGENTES SUR                    738\n",
              "EMILIANO ZAPATA NO. 7     ENTRE REFORMA Y CUAUHTEMOC    287\n",
              "CORUÑA S/N ESQ. SUR 65-A                                195\n",
              "CANNES No. 6 ESQ. CANAL DE MIRAMONTES                     9\n",
              "Name: direccion, dtype: int64"
            ]
          },
          "metadata": {},
          "execution_count": 45
        }
      ]
    },
    {
      "cell_type": "markdown",
      "metadata": {
        "id": "ATg1qD3qmaRf"
      },
      "source": [
        "Feature `estado`"
      ]
    },
    {
      "cell_type": "code",
      "metadata": {
        "colab": {
          "base_uri": "https://localhost:8080/"
        },
        "id": "6yWBKmTcoSgy",
        "outputId": "e70f9128-a173-4645-f998-b2078eb8cec8"
      },
      "source": [
        "print('INFO: There are {} categories in the feature `estado`.'.format(len(df.estado.value_counts())))\n",
        "print('INFO: Some examples')\n",
        "df.estado.value_counts()"
      ],
      "execution_count": null,
      "outputs": [
        {
          "output_type": "stream",
          "name": "stdout",
          "text": [
            "INFO: There are 2 categories in the feature `estado`.\n",
            "INFO: Some examples\n"
          ]
        },
        {
          "output_type": "execute_result",
          "data": {
            "text/plain": [
              "MÉXICO              1057\n",
              "DISTRITO FEDERAL     942\n",
              "Name: estado, dtype: int64"
            ]
          },
          "metadata": {},
          "execution_count": 46
        }
      ]
    },
    {
      "cell_type": "markdown",
      "metadata": {
        "id": "16LGRUZGmcJk"
      },
      "source": [
        "Feature `municipio`"
      ]
    },
    {
      "cell_type": "code",
      "metadata": {
        "colab": {
          "base_uri": "https://localhost:8080/"
        },
        "id": "KkCEJXKXoWRj",
        "outputId": "90fc97b6-2ea6-41ca-e4fc-646abfd015f9"
      },
      "source": [
        "print('INFO: There are {} categories in the feature `municipio`.'.format(len(df.municipio.value_counts())))\n",
        "print('INFO: Some examples')\n",
        "df.municipio.value_counts()"
      ],
      "execution_count": null,
      "outputs": [
        {
          "output_type": "stream",
          "name": "stdout",
          "text": [
            "INFO: There are 5 categories in the feature `municipio`.\n",
            "INFO: Some examples\n"
          ]
        },
        {
          "output_type": "execute_result",
          "data": {
            "text/plain": [
              "ATIZAPAN                                    770\n",
              "BENITO JUAREZ                               738\n",
              "NAUCALPAN                                   287\n",
              "IZTACALCO                                   195\n",
              "TLALPAN                                       9\n",
              "Name: municipio, dtype: int64"
            ]
          },
          "metadata": {},
          "execution_count": 47
        }
      ]
    },
    {
      "cell_type": "markdown",
      "metadata": {
        "id": "zmp0Ml46Fu_b"
      },
      "source": [
        "# Processing all data"
      ]
    },
    {
      "cell_type": "markdown",
      "metadata": {
        "id": "q7NPkLTa-HvJ"
      },
      "source": [
        "## Getting all data"
      ]
    },
    {
      "cell_type": "code",
      "metadata": {
        "colab": {
          "base_uri": "https://localhost:8080/"
        },
        "id": "4B-F1rCdu5W_",
        "outputId": "b864108c-63a8-4370-f83b-34339b750f66"
      },
      "source": [
        "!git clone https://github.com/chentinghao/download_google_drive.git\n",
        "%cd download_google_drive/\n",
        "!python download_gdrive.py 1crFR4yrS_6DV3_Fh-HrhANJg1-qlyE-O profeco.zip"
      ],
      "execution_count": 2,
      "outputs": [
        {
          "output_type": "stream",
          "name": "stdout",
          "text": [
            "Cloning into 'download_google_drive'...\n",
            "remote: Enumerating objects: 16, done.\u001b[K\n",
            "remote: Total 16 (delta 0), reused 0 (delta 0), pack-reused 16\u001b[K\n",
            "Unpacking objects: 100% (16/16), done.\n",
            "/content/download_google_drive\n",
            "1.50GB [00:25, 62.1MB/s]\n"
          ]
        }
      ]
    },
    {
      "cell_type": "code",
      "metadata": {
        "colab": {
          "base_uri": "https://localhost:8080/"
        },
        "id": "T24V7eHFtGBx",
        "outputId": "20abb5b0-3b52-4b6a-d737-6417fa3430f2"
      },
      "source": [
        "!unzip /content/download_google_drive/profeco.zip"
      ],
      "execution_count": 3,
      "outputs": [
        {
          "output_type": "stream",
          "name": "stdout",
          "text": [
            "Archive:  /content/download_google_drive/profeco.zip\n",
            "  inflating: all_data.csv            \n"
          ]
        }
      ]
    },
    {
      "cell_type": "markdown",
      "metadata": {
        "id": "PDJmHJF5Jr9d"
      },
      "source": [
        "## Split data in chunks"
      ]
    },
    {
      "cell_type": "code",
      "metadata": {
        "id": "JNvb5Aa4-XlN",
        "colab": {
          "base_uri": "https://localhost:8080/"
        },
        "outputId": "01cd3ea8-174b-434a-a81a-f4f57f0415f9"
      },
      "source": [
        "# Counting the number of rows in the file\n",
        "! wc -l /content/download_google_drive/all_data.csv"
      ],
      "execution_count": 1,
      "outputs": [
        {
          "output_type": "stream",
          "name": "stdout",
          "text": [
            "62530716 /content/download_google_drive/all_data.csv\n"
          ]
        }
      ]
    },
    {
      "cell_type": "code",
      "metadata": {
        "id": "Pc-aY46rCXb3"
      },
      "source": [
        "# Split dataset in 10M chunks to be processed\n",
        "! split -l 10000000 -d /content/download_google_drive/all_data.csv /content/download_google_drive/"
      ],
      "execution_count": 6,
      "outputs": []
    },
    {
      "cell_type": "code",
      "metadata": {
        "id": "Dbs3PvBnZjVt"
      },
      "source": [
        "# delete big file\n",
        "! rm /content/download_google_drive/all_data.csv"
      ],
      "execution_count": 7,
      "outputs": []
    },
    {
      "cell_type": "markdown",
      "metadata": {
        "id": "B8e4Eofd-E-o"
      },
      "source": [
        "## Convert data to parquet"
      ]
    },
    {
      "cell_type": "code",
      "metadata": {
        "id": "8SW1cHFMt2wE",
        "colab": {
          "base_uri": "https://localhost:8080/"
        },
        "outputId": "900e4976-1bc7-4fbb-87e6-8911a1d10897"
      },
      "source": [
        "import pyarrow.csv as pv\n",
        "import pyarrow.parquet as pq\n",
        "import gc\n",
        "\n",
        "chunk_list = [\n",
        "            '/content/download_google_drive/00',\n",
        "            '/content/download_google_drive/01',\n",
        "            '/content/download_google_drive/02',\n",
        "            '/content/download_google_drive/03',\n",
        "            '/content/download_google_drive/04',\n",
        "            '/content/download_google_drive/05',\n",
        "            '/content/download_google_drive/06',\n",
        "          ]\n",
        "\n",
        "#filename = '/content/data-engineering-bootcamp/data_chunks00'\n",
        "\n",
        "for chunk in chunk_list:\n",
        "  table = pv.read_csv(chunk)\n",
        "  pq.write_table(table, chunk.replace('csv', 'parquet'))\n",
        "  del table\n",
        "  gc.collect()\n",
        "  gc.collect()\n",
        "  gc.collect()\n",
        "\n",
        "  print('INFO: Chunk CSV {} converted to PARQUET'.format(chunk))\n",
        "\n",
        "print('INFO: CSV files converted to PARQUET')"
      ],
      "execution_count": 12,
      "outputs": [
        {
          "output_type": "stream",
          "name": "stdout",
          "text": [
            "INFO: Chunk CSV {} converted to PARQUET\n",
            "INFO: Chunk CSV {} converted to PARQUET\n",
            "INFO: Chunk CSV {} converted to PARQUET\n",
            "INFO: Chunk CSV {} converted to PARQUET\n",
            "INFO: Chunk CSV {} converted to PARQUET\n",
            "INFO: Chunk CSV {} converted to PARQUET\n",
            "INFO: Chunk CSV {} converted to PARQUET\n",
            "INFO: CSV files converted to PARQUET\n"
          ]
        }
      ]
    },
    {
      "cell_type": "markdown",
      "metadata": {
        "id": "dxY3lFU-Nezx"
      },
      "source": [
        "## Setup PySpark session"
      ]
    },
    {
      "cell_type": "code",
      "metadata": {
        "id": "_YJ-qPQnMQnW"
      },
      "source": [
        "# Install dependencies\n",
        "!apt-get install openjdk-8-jdk-headless -qq > /dev/null\n",
        "!wget -q https://downloads.apache.org/spark/spark-3.1.2/spark-3.1.2-bin-hadoop3.2.tgz \n",
        "!tar -xvf spark-3.1.2-bin-hadoop3.2.tgz\n",
        "!pip install -q findspark\n",
        "!pip install pyspark"
      ],
      "execution_count": null,
      "outputs": []
    },
    {
      "cell_type": "code",
      "metadata": {
        "id": "h6xAINQiNlr9"
      },
      "source": [
        "from pyspark.sql import SparkSession\n",
        "from pyspark.sql import functions as f\n",
        "from pyspark.sql.functions import *\n",
        "from pyspark.sql.types import StringType, IntegerType\n",
        "import pyspark\n",
        "from pyspark import SparkContext\n",
        "from pyspark import SparkConf\n",
        "\n",
        "sc = SparkContext()\n",
        "spark = SparkSession.builder.getOrCreate()"
      ],
      "execution_count": 14,
      "outputs": []
    },
    {
      "cell_type": "code",
      "metadata": {
        "id": "cWuDuTWrPgc2"
      },
      "source": [
        "parDF = spark.read.parquet('/content/download_google_drive/00','/content/download_google_drive/01','/content/download_google_drive/02','/content/download_google_drive/03','/content/download_google_drive/04','/content/download_google_drive/05','/content/download_google_drive/06',)"
      ],
      "execution_count": 15,
      "outputs": []
    },
    {
      "cell_type": "code",
      "metadata": {
        "colab": {
          "base_uri": "https://localhost:8080/"
        },
        "id": "LYLJc8CPQHRx",
        "outputId": "548f0968-6f05-4737-c111-8c6b13656fd2"
      },
      "source": [
        "parDF.describe().show()"
      ],
      "execution_count": 19,
      "outputs": [
        {
          "output_type": "stream",
          "name": "stdout",
          "text": [
            "+-------+--------+--------------------+--------------------+--------------------+----------------+------------------+--------------------+----------------+--------------------+--------------------+--------------------+---------+--------------------+------------------+------------------+\n",
            "|summary|producto|        presentacion|               marca|           categoria|        catalogo|            precio|       fechaRegistro| cadenaComercial|                giro|     nombreComercial|           direccion|   estado|           municipio|           latitud|          longitud|\n",
            "+-------+--------+--------------------+--------------------+--------------------+----------------+------------------+--------------------+----------------+--------------------+--------------------+--------------------+---------+--------------------+------------------+------------------+\n",
            "|  count| 9999999|             9999999|             9999999|             9999999|         9999999|           9999999|             9999999|         9999999|             9999999|             9999999|             9999999|  9999999|             9999999|           9617917|           9617917|\n",
            "|   mean|    null|   98752.60534960113|              1880.0|                null|            null| 483.5601069920454|                null|            null|                null|                null|                null|     null|                null|20.659140324331048|-99.69632305069435|\n",
            "| stddev|    null|   44501.07054071845|                 0.0|                null|            null|1887.6727978889464|                null|            null|                null|                null|                null|     null|                null|2.2740743914509784|4.1849613619282415|\n",
            "|    min| A.S.COR|# 6017872 O C.B. ...|'PAPER MATE. ERAS...|ACCESORIOS DOMEST...|                |              0.45|2011-01-03 00:00:...|        7 ELEVEN|ARTICULOS DEPORTIVOS|7 ELEVEN SUCURSAL...|05 DE MAYO 202, P...|         |                    |         17.039429|       -111.011497|\n",
            "|    max| ZYPREXA|ZS-S10CP. BOCINAS...|             iO MABE|     VINOS Y LICORES|UTILES ESCOLARES|           99999.0|2012-12-14 00:00:...|ZARAGOZA MUEBLES|           ZAPATERIA|ZARAGOZA MUEBLES ...|ZURICH NO. 1039, ...|ZACATECAS|ZINACANTEPEC     ...|          29.14444|        -86.824104|\n",
            "+-------+--------+--------------------+--------------------+--------------------+----------------+------------------+--------------------+----------------+--------------------+--------------------+--------------------+---------+--------------------+------------------+------------------+\n",
            "\n"
          ]
        }
      ]
    },
    {
      "cell_type": "code",
      "metadata": {
        "colab": {
          "base_uri": "https://localhost:8080/"
        },
        "id": "JBLIWIP7QOCX",
        "outputId": "3566a8f9-110d-4960-80eb-85d7acbfd3e2"
      },
      "source": [
        "parDF.count()"
      ],
      "execution_count": 20,
      "outputs": [
        {
          "output_type": "execute_result",
          "data": {
            "text/plain": [
              "62530709"
            ]
          },
          "metadata": {},
          "execution_count": 20
        }
      ]
    },
    {
      "cell_type": "markdown",
      "metadata": {
        "id": "4gF7-UQspKlM"
      },
      "source": [
        "### 1. How many commercial chains are monitored, and therefore, included in this database?"
      ]
    },
    {
      "cell_type": "code",
      "metadata": {
        "colab": {
          "base_uri": "https://localhost:8080/"
        },
        "id": "carrk6M8pNpX",
        "outputId": "ca7ecdbe-1e9f-48d4-f46b-59dc3587855e"
      },
      "source": [
        "from pyspark.sql.functions import countDistinct\n",
        "df2 = parDF.select(countDistinct(\"cadenaComercial\"))\n",
        "df2.show()"
      ],
      "execution_count": 21,
      "outputs": [
        {
          "output_type": "stream",
          "name": "stdout",
          "text": [
            "+-------------------------------+\n",
            "|count(DISTINCT cadenaComercial)|\n",
            "+-------------------------------+\n",
            "|                            520|\n",
            "+-------------------------------+\n",
            "\n"
          ]
        }
      ]
    },
    {
      "cell_type": "markdown",
      "metadata": {
        "id": "1vszmBiUp6fY"
      },
      "source": [
        "### 2. What are the top 10 monitored products by State?"
      ]
    },
    {
      "cell_type": "code",
      "metadata": {
        "colab": {
          "base_uri": "https://localhost:8080/"
        },
        "id": "akonLCm2tt5E",
        "outputId": "e52d1d2c-7de0-4085-877f-1f185ef98ebc"
      },
      "source": [
        "df3 = parDF.where(col('estado').isNotNull()).select('estado').distinct().show(30,truncate=False)"
      ],
      "execution_count": 34,
      "outputs": [
        {
          "output_type": "stream",
          "name": "stdout",
          "text": [
            "+-------------------------------+\n",
            "|estado                         |\n",
            "+-------------------------------+\n",
            "|QUINTANA ROO                   |\n",
            "|NUEVO LEÓN                     |\n",
            "|SINALOA                        |\n",
            "|TABASCO                        |\n",
            "|TLAXCALA                       |\n",
            "|COAHUILA DE ZARAGOZA           |\n",
            "|VERACRUZ DE IGNACIO DE LA LLAVE|\n",
            "|SONORA                         |\n",
            "|YUCATÁN                        |\n",
            "|MICHOACÁN DE OCAMPO            |\n",
            "|DURANGO                        |\n",
            "|DISTRITO FEDERAL               |\n",
            "|HIDALGO                        |\n",
            "|ZACATECAS                      |\n",
            "|GUANAJUATO                     |\n",
            "|AGUASCALIENTES                 |\n",
            "|OAXACA                         |\n",
            "|PUEBLA                         |\n",
            "|JALISCO                        |\n",
            "|                               |\n",
            "|QUERÉTARO                      |\n",
            "|COLIMA                         |\n",
            "|MÉXICO                         |\n",
            "+-------------------------------+\n",
            "\n"
          ]
        }
      ]
    },
    {
      "cell_type": "code",
      "metadata": {
        "colab": {
          "base_uri": "https://localhost:8080/"
        },
        "id": "H5pehudsxkfT",
        "outputId": "d58c622c-ed4d-4783-fc6e-4e11826c5e4e"
      },
      "source": [
        "type(parDF)"
      ],
      "execution_count": 40,
      "outputs": [
        {
          "output_type": "execute_result",
          "data": {
            "text/plain": [
              "pyspark.sql.dataframe.DataFrame"
            ]
          },
          "metadata": {},
          "execution_count": 40
        }
      ]
    },
    {
      "cell_type": "code",
      "metadata": {
        "colab": {
          "base_uri": "https://localhost:8080/",
          "height": 522
        },
        "id": "fNyseeVgv6PR",
        "outputId": "be4dec5d-c538-4458-b923-f22b0dbc8f43"
      },
      "source": [
        "from pyspark.sql.window import Window\n",
        "from pyspark.sql.functions import *\n",
        "#add partition by and order by clause if ordering required with in window.\n",
        "w = Window.orderBy(desc(\"producto\"))\n",
        "\n",
        "parDF.withColumn(\"estado\",row_number().over(w)).show()\n",
        "\n",
        "'''from pyspark.sql.functions import desc\n",
        "from pyspark.sql.window import Window\n",
        "\n",
        "F.row_number().over(\n",
        "    Window.partitionBy(\"driver\").orderBy(desc(\"unit_count\"))\n",
        ")'''"
      ],
      "execution_count": 45,
      "outputs": [
        {
          "output_type": "stream",
          "name": "stdout",
          "text": [
            "+--------+--------------------+---------+------------+------------+-------+--------------------+--------------------+--------------------+--------------------+--------------------+------+--------------------+---------+-----------+\n",
            "|producto|        presentacion|    marca|   categoria|    catalogo| precio|       fechaRegistro|     cadenaComercial|                giro|     nombreComercial|           direccion|estado|           municipio|  latitud|   longitud|\n",
            "+--------+--------------------+---------+------------+------------+-------+--------------------+--------------------+--------------------+--------------------+--------------------+------+--------------------+---------+-----------+\n",
            "| ZYPREXA|CAJA CON 14 TABLE...|SIN MARCA|MEDICAMENTOS|MEDICAMENTOS|  882.0|2012-07-10 00:00:...|      BODEGA AURRERA|TIENDA DE AUTOSER...|AURRERA BODEGA SU...|AV. RIO CHURUBUSC...|     1|IZTACALCO        ...|19.380448| -99.101768|\n",
            "| ZYPREXA|CAJA CON 14 TABLE...|SIN MARCA|MEDICAMENTOS|MEDICAMENTOS| 761.06|2012-09-10 00:00:...|        I.S.S.S.T.E.|TIENDA DE AUTOSER...| ISSSTE SUCURSAL 226|20 DE NOVIEMBRE 9...|     2|DURANGO          ...|24.027729|-104.653187|\n",
            "| ZYPREXA|CAJA CON 14 TABLE...|SIN MARCA|MEDICAMENTOS|MEDICAMENTOS| 761.06|2012-06-13 00:00:...|        I.S.S.S.T.E.|TIENDA DE AUTOSER...|I.S.S.S.T.E. SUCU...|CORUÑA S/N ESQ. S...|     3|IZTACALCO        ...|19.400879| -99.131672|\n",
            "| ZYPREXA|CAJA CON 14 TABLE...|SIN MARCA|MEDICAMENTOS|MEDICAMENTOS|  850.3|2012-07-10 00:00:...|       FARMACIAS VYR|FARMACIA BOTICA Y...|VYR SUCURSAL PLAZ...|AV. CARLOS HANK G...|     4|ECATEPEC         ...|     null|       null|\n",
            "| ZYPREXA|CAJA CON 14 TABLE...|SIN MARCA|MEDICAMENTOS|MEDICAMENTOS|1303.48|2012-09-10 00:00:...|        I.S.S.S.T.E.|TIENDA DE AUTOSER...| ISSSTE SUCURSAL 226|20 DE NOVIEMBRE 9...|     5|DURANGO          ...|24.027729|-104.653187|\n",
            "| ZYPREXA|CAJA CON 14 TABLE...|SIN MARCA|MEDICAMENTOS|MEDICAMENTOS| 1303.0|2012-06-13 00:00:...|        I.S.S.S.T.E.|TIENDA DE AUTOSER...|I.S.S.S.T.E. SUCU...|CORUÑA S/N ESQ. S...|     6|IZTACALCO        ...|19.400879| -99.131672|\n",
            "| ZYPREXA|CAJA CON 14 TABLE...|SIN MARCA|MEDICAMENTOS|MEDICAMENTOS| 1456.7|2012-07-10 00:00:...|       FARMACIAS VYR|FARMACIA BOTICA Y...|VYR SUCURSAL PLAZ...|AV. CARLOS HANK G...|     7|ECATEPEC         ...|     null|       null|\n",
            "| ZYPREXA|CAJA CON 14 TABLE...|SIN MARCA|MEDICAMENTOS|MEDICAMENTOS|  864.2|2012-12-10 00:00:...|  COMERCIAL MEXICANA|TIENDA DE AUTOSER...|COMERCIAL MEXICAN...|BOSQUES DE MOCTEZ...|     8|HUIXQUILUCAN     ...|19.417261| -99.249118|\n",
            "| ZYPREXA|CAJA CON 14 TABLE...|SIN MARCA|MEDICAMENTOS|MEDICAMENTOS|  882.0|2012-06-13 00:00:...|            SUPERAMA|TIENDA DE AUTOSER...|SUPERAMA SUCURSAL...|HOMERO NO. 310 EN...|     9|MIGUEL HIDALGO   ...|19.435231| -99.185978|\n",
            "| ZYPREXA|CAJA CON 14 TABLE...|SIN MARCA|MEDICAMENTOS|MEDICAMENTOS|  882.0|2012-07-10 00:00:...|            WAL-MART|TIENDA DE AUTOSER...|WAL MART SUCURSAL...|CARR. MEX. QUERET...|    10|CUAUTITLAN IZCALL...|19.515342| -99.232299|\n",
            "| ZYPREXA|CAJA CON 14 TABLE...|SIN MARCA|MEDICAMENTOS|MEDICAMENTOS| 1470.4|2012-12-10 00:00:...|  COMERCIAL MEXICANA|TIENDA DE AUTOSER...|COMERCIAL MEXICAN...|BOSQUES DE MOCTEZ...|    11|HUIXQUILUCAN     ...|19.417261| -99.249118|\n",
            "| ZYPREXA|CAJA CON 14 TABLE...|SIN MARCA|MEDICAMENTOS|MEDICAMENTOS| 1511.0|2012-06-13 00:00:...|            SUPERAMA|TIENDA DE AUTOSER...|SUPERAMA SUCURSAL...|HOMERO NO. 310 EN...|    12|MIGUEL HIDALGO   ...|19.435231| -99.185978|\n",
            "| ZYPREXA|CAJA CON 14 TABLE...|SIN MARCA|MEDICAMENTOS|MEDICAMENTOS| 1511.0|2012-07-10 00:00:...|            WAL-MART|TIENDA DE AUTOSER...|WAL MART SUCURSAL...|CARR. MEX. QUERET...|    13|CUAUTITLAN IZCALL...|19.515342| -99.232299|\n",
            "| ZYPREXA|CAJA CON 14 TABLE...|SIN MARCA|MEDICAMENTOS|MEDICAMENTOS|  743.0|2012-12-10 00:00:...|     MERCADO SORIANA|TIENDA DE AUTOSER...|MERCADO SORIANA S...|CARRETERA PROGRES...|    14|ATIZAPAN         ...| 19.56806| -99.251586|\n",
            "| ZYPREXA|CAJA CON 14 TABLE...|SIN MARCA|MEDICAMENTOS|MEDICAMENTOS|  844.0|2012-06-13 00:00:...|             SORIANA|TIENDA DE AUTOSER...|SORIANA SUCURSAL ...|AV. ERMITA IZTAPA...|    15|IZTAPALAPA       ...|19.350303| -99.074585|\n",
            "| ZYPREXA|CAJA CON 14 TABLE...|SIN MARCA|MEDICAMENTOS|MEDICAMENTOS|  804.5|2012-07-10 00:00:...|BODEGA COMERCIAL ...|TIENDA DE AUTOSER...|BODEGA COMERCIAL ...|AV. JORGE JIMENEZ...|    16|CUAUTITLAN       ...|19.649797|  -99.20498|\n",
            "| ZYPREXA|CAJA CON 14 TABLE...|SIN MARCA|MEDICAMENTOS|MEDICAMENTOS| 1276.0|2012-12-10 00:00:...|     MERCADO SORIANA|TIENDA DE AUTOSER...|MERCADO SORIANA S...|CARRETERA PROGRES...|    17|ATIZAPAN         ...| 19.56806| -99.251586|\n",
            "| ZYPREXA|CAJA CON 14 TABLE...|SIN MARCA|MEDICAMENTOS|MEDICAMENTOS| 1478.0|2012-06-13 00:00:...|             SORIANA|TIENDA DE AUTOSER...|SORIANA SUCURSAL ...|AV. ERMITA IZTAPA...|    18|IZTAPALAPA       ...|19.350303| -99.074585|\n",
            "| ZYPREXA|CAJA CON 14 TABLE...|SIN MARCA|MEDICAMENTOS|MEDICAMENTOS| 1409.4|2012-07-10 00:00:...|BODEGA COMERCIAL ...|TIENDA DE AUTOSER...|BODEGA COMERCIAL ...|AV. JORGE JIMENEZ...|    19|CUAUTITLAN       ...|19.649797|  -99.20498|\n",
            "| ZYPREXA|CAJA CON 14 TABLE...|SIN MARCA|MEDICAMENTOS|MEDICAMENTOS|  882.0|2012-12-10 00:00:...|            WAL-MART|TIENDA DE AUTOSER...|WAL MART SUCURSAL...|EMILIANO ZAPATA N...|    20|NAUCALPAN        ...|19.483909|  -99.23318|\n",
            "+--------+--------------------+---------+------------+------------+-------+--------------------+--------------------+--------------------+--------------------+--------------------+------+--------------------+---------+-----------+\n",
            "only showing top 20 rows\n",
            "\n"
          ]
        },
        {
          "output_type": "execute_result",
          "data": {
            "application/vnd.google.colaboratory.intrinsic+json": {
              "type": "string"
            },
            "text/plain": [
              "'from pyspark.sql.functions import desc\\nfrom pyspark.sql.window import Window\\n\\nF.row_number().over(\\n    Window.partitionBy(\"driver\").orderBy(desc(\"unit_count\"))\\n)'"
            ]
          },
          "metadata": {},
          "execution_count": 45
        }
      ]
    },
    {
      "cell_type": "code",
      "metadata": {
        "id": "Jtn0p1dywyk2"
      },
      "source": [
        "from pyspark.sql import functions as F\n",
        "from pyspark.sql.window import Window\n",
        "\n",
        "win_row_number = Window.orderBy(\"col_name\")\n",
        "df_row_number = df.select(\"col_name\", F.row_number().over(win_row_number))"
      ],
      "execution_count": null,
      "outputs": []
    },
    {
      "cell_type": "code",
      "metadata": {
        "colab": {
          "base_uri": "https://localhost:8080/"
        },
        "id": "IMIbQul5qslq",
        "outputId": "a5aab13f-892a-4e77-c8bf-29efeff9e76a"
      },
      "source": [
        "parDF.where(col(\"producto\").isNotNull()).orderBy(\"producto\",\"estado\").show(10, truncate=False)"
      ],
      "execution_count": 24,
      "outputs": [
        {
          "output_type": "stream",
          "name": "stdout",
          "text": [
            "+--------+---------------------------------------------+-----+------------+------------+------+-----------------------+--------------------+---------------------------+----------------------------------------+------------------------------------------------------+--------------------+----------------------------------------+---------+-----------+\n",
            "|producto|presentacion                                 |marca|categoria   |catalogo    |precio|fechaRegistro          |cadenaComercial     |giro                       |nombreComercial                         |direccion                                             |estado              |municipio                               |latitud  |longitud   |\n",
            "+--------+---------------------------------------------+-----+------------+------------+------+-----------------------+--------------------+---------------------------+----------------------------------------+------------------------------------------------------+--------------------+----------------------------------------+---------+-----------+\n",
            "|A.S.COR |FRASCO GOTERO 24 ML. 1.000 G., SOLUCION GOTAS|S/M  |MEDICAMENTOS|MEDICAMENTOS|130.0 |2012-04-10 00:00:00.000|H.E.B.              |TIENDA DE AUTOSERVICIO     |H E B SUCURSAL SALTILLO REPUBLICA       |BLVD. LUIS ECHEVERRIA 851 CASI ESQ. BLVD. DE LOS FUNDA|COAHUILA DE ZARAGOZA|SALTILLO                                |25.429962|-100.970321|\n",
            "|A.S.COR |FRASCO GOTERO 24 ML. 1.000 G., SOLUCION GOTAS|S/M  |MEDICAMENTOS|MEDICAMENTOS|172.0 |2012-10-10 00:00:00.000|FARMACIA DEL AHORRO |FARMACIA BOTICA Y DROGUERIA|FARMACIA DEL AHORRO SUCURSAL REPUBLICA  |REYNOSA NO. 3900, ESQ. BLVD. VENUSTIANO CARRANZA      |COAHUILA DE ZARAGOZA|SALTILLO                                |25.443657|-100.991105|\n",
            "|A.S.COR |FRASCO GOTERO 24 ML. 1.000 G., SOLUCION GOTAS|S/M  |MEDICAMENTOS|MEDICAMENTOS|146.0 |2012-10-10 00:00:00.000|WAL-MART            |TIENDA DE AUTOSERVICIO     |WALMART SUCURSAL SALTILLO               |PASEO DE LA REFORMA 1690 ENTRE 8 DE MAYO Y DE LA ESCUE|COAHUILA DE ZARAGOZA|SALTILLO                                |25.425767|-100.979676|\n",
            "|A.S.COR |FRASCO GOTERO 24 ML. 1.000 G., SOLUCION GOTAS|S/M  |MEDICAMENTOS|MEDICAMENTOS|172.5 |2012-08-01 00:00:00.000|FARMACIA DEL AHORRO |FARMACIA BOTICA Y DROGUERIA|FARMACIA DEL AHORRO SUCURSAL REPUBLICA  |REYNOSA NO. 3900, ESQ. BLVD. VENUSTIANO CARRANZA      |COAHUILA DE ZARAGOZA|SALTILLO                                |25.443657|-100.991105|\n",
            "|A.S.COR |FRASCO GOTERO 24 ML. 1.000 G., SOLUCION GOTAS|S/M  |MEDICAMENTOS|MEDICAMENTOS|122.0 |2012-08-01 00:00:00.000|WAL-MART            |TIENDA DE AUTOSERVICIO     |WALMART SUCURSAL SALTILLO               |PASEO DE LA REFORMA 1690 ENTRE 8 DE MAYO Y DE LA ESCUE|COAHUILA DE ZARAGOZA|SALTILLO                                |25.425767|-100.979676|\n",
            "|A.S.COR |FRASCO GOTERO 24 ML. 1.000 G., SOLUCION GOTAS|S/M  |MEDICAMENTOS|MEDICAMENTOS|119.0 |2012-04-11 00:00:00.000|WAL-MART            |TIENDA DE AUTOSERVICIO     |WALMART SUCURSAL SALTILLO               |PASEO DE LA REFORMA 1690 ENTRE 8 DE MAYO Y DE LA ESCUE|COAHUILA DE ZARAGOZA|SALTILLO                                |25.425767|-100.979676|\n",
            "|A.S.COR |FRASCO GOTERO 24 ML. 1.000 G., SOLUCION GOTAS|S/M  |MEDICAMENTOS|MEDICAMENTOS|118.0 |2012-05-11 00:00:00.000|BODEGA AURRERA      |TIENDA DE AUTOSERVICIO     |BODEGA AURRERA  SUCURSAL EMILIO CARRANZA|PRESIDENTE CARDENAS S/N ESQ. EMILIO CARRANZA          |COAHUILA DE ZARAGOZA|SALTILLO                                |25.434632|-101.004524|\n",
            "|A.S.COR |FRASCO GOTERO 24 ML. 1.000 G., SOLUCION GOTAS|S/M  |MEDICAMENTOS|MEDICAMENTOS|149.1 |2012-06-11 00:00:00.000|FARMACIA GUADALAJARA|TIENDA DE AUTOSERVICIO     |FARMACIA GUADALAJARA SUCURSAL 756       |VENUSTIANO CARRANZA 1669, ENTRE CHIAPAS Y DISTRITO FED|COAHUILA DE ZARAGOZA|SALTILLO                                |25.449516|-100.988214|\n",
            "|A.S.COR |FRASCO GOTERO 24 ML. 1.000 G., SOLUCION GOTAS|S/M  |MEDICAMENTOS|MEDICAMENTOS|154.0 |2012-10-12 00:00:00.000|BODEGA AURRERA      |TIENDA DE AUTOSERVICIO     |BODEGA AURRERA  SUCURSAL EMILIO CARRANZA|PRESIDENTE CARDENAS S/N ESQ. EMILIO CARRANZA          |COAHUILA DE ZARAGOZA|SALTILLO                                |25.434632|-101.004524|\n",
            "|A.S.COR |FRASCO GOTERO 24 ML. 1.000 G., SOLUCION GOTAS|S/M  |MEDICAMENTOS|MEDICAMENTOS|130.0 |2012-03-13 00:00:00.000|H.E.B.              |TIENDA DE AUTOSERVICIO     |H E B SUCURSAL SALTILLO REPUBLICA       |BLVD. LUIS ECHEVERRIA 851 CASI ESQ. BLVD. DE LOS FUNDA|COAHUILA DE ZARAGOZA|SALTILLO                                |25.429962|-100.970321|\n",
            "+--------+---------------------------------------------+-----+------------+------------+------+-----------------------+--------------------+---------------------------+----------------------------------------+------------------------------------------------------+--------------------+----------------------------------------+---------+-----------+\n",
            "only showing top 10 rows\n",
            "\n"
          ]
        }
      ]
    },
    {
      "cell_type": "markdown",
      "metadata": {
        "id": "QGMpgGkZn1B8"
      },
      "source": [
        "# Resources\n",
        "* https://blog.datasyndrome.com/python-and-parquet-performance-e71da65269ce\n",
        "* https://towardsdatascience.com/pyspark-and-sparksql-basics-6cb4bf967e53\n",
        "* https://sparkbyexamples.com/pyspark/pyspark-read-and-write-parquet-file/\n"
      ]
    },
    {
      "cell_type": "code",
      "metadata": {
        "id": "TjbSDWA0nowN"
      },
      "source": [
        ""
      ],
      "execution_count": null,
      "outputs": []
    }
  ]
}