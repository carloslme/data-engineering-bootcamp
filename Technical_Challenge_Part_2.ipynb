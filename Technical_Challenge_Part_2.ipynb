{
  "nbformat": 4,
  "nbformat_minor": 0,
  "metadata": {
    "colab": {
      "name": "Technical-Challenge-Part-2.ipynb",
      "provenance": [],
      "collapsed_sections": [
        "YWOgLdMsGIeZ",
        "2kFPeNAhFy3U",
        "q7NPkLTa-HvJ"
      ],
      "toc_visible": true,
      "authorship_tag": "ABX9TyMWLfe+EWZRbDtsO1ISLq+g",
      "include_colab_link": true
    },
    "kernelspec": {
      "name": "python3",
      "display_name": "Python 3"
    },
    "language_info": {
      "name": "python"
    }
  },
  "cells": [
    {
      "cell_type": "markdown",
      "metadata": {
        "id": "view-in-github",
        "colab_type": "text"
      },
      "source": [
        "<a href=\"https://colab.research.google.com/github/carloslme/data-engineering-bootcamp/blob/main/Technical_Challenge_Part_2.ipynb\" target=\"_parent\"><img src=\"https://colab.research.google.com/assets/colab-badge.svg\" alt=\"Open In Colab\"/></a>"
      ]
    },
    {
      "cell_type": "markdown",
      "metadata": {
        "id": "ROo2QxHZG0iQ"
      },
      "source": [
        "# Introduction\n",
        "\n",
        "The Customer Service team at Profeco (Mexican Consumer Protection Agency) wants to analyze the monitored products in Mexico. The IT team downloaded the database into an Google Drive on a CSV file of about 20GB.\n",
        "\n",
        "\n",
        "Your task as a Data Engineer is processing the data and creating an exploratory analysis with Python Pandas without using pure Python functions.\n"
      ]
    },
    {
      "cell_type": "markdown",
      "metadata": {
        "id": "YWOgLdMsGIeZ"
      },
      "source": [
        "# Import dependencies"
      ]
    },
    {
      "cell_type": "code",
      "metadata": {
        "id": "Uu6K2hsVHCiA"
      },
      "source": [
        "# Common imports\n",
        "import numpy as np\n",
        "import os\n",
        "\n",
        "# Parquet imports\n",
        "import pyarrow as pa\n",
        "import pyarrow.parquet as pq\n",
        "\n",
        "# To plot pretty figures\n",
        "%matplotlib inline\n",
        "import matplotlib as mpl\n",
        "import matplotlib.pyplot as plt\n",
        "mpl.rc('axes', labelsize=14)\n",
        "mpl.rc('xtick', labelsize=12)\n",
        "mpl.rc('ytick', labelsize=12)\n",
        "\n",
        "\n",
        "import pandas as pd\n",
        "import seaborn as sns\n",
        "import warnings\n",
        "warnings.simplefilter(action='ignore', category=FutureWarning)"
      ],
      "execution_count": 1,
      "outputs": []
    },
    {
      "cell_type": "markdown",
      "metadata": {
        "id": "2kFPeNAhFy3U"
      },
      "source": [
        "# Processing sample data"
      ]
    },
    {
      "cell_type": "markdown",
      "metadata": {
        "id": "WWA4rM2v-MPn"
      },
      "source": [
        "## Getting sample data"
      ]
    },
    {
      "cell_type": "code",
      "metadata": {
        "colab": {
          "base_uri": "https://localhost:8080/"
        },
        "id": "SGwjhYTIF0nA",
        "outputId": "7003732c-56e2-41e5-e708-4250b2f17284"
      },
      "source": [
        "!git clone https://github.com/wizelineacademy/data-engineering-bootcamp.git"
      ],
      "execution_count": 2,
      "outputs": [
        {
          "output_type": "stream",
          "name": "stdout",
          "text": [
            "Cloning into 'data-engineering-bootcamp'...\n",
            "remote: Enumerating objects: 21, done.\u001b[K\n",
            "remote: Counting objects: 100% (21/21), done.\u001b[K\n",
            "remote: Compressing objects: 100% (15/15), done.\u001b[K\n",
            "remote: Total 21 (delta 5), reused 15 (delta 3), pack-reused 0\u001b[K\n",
            "Unpacking objects: 100% (21/21), done.\n"
          ]
        }
      ]
    },
    {
      "cell_type": "markdown",
      "metadata": {
        "id": "AVb0IBYrHIVL"
      },
      "source": [
        "## Exploratory analysis for sample data"
      ]
    },
    {
      "cell_type": "code",
      "metadata": {
        "colab": {
          "base_uri": "https://localhost:8080/",
          "height": 513
        },
        "id": "L0l5RIt6HNO8",
        "outputId": "997efd62-0338-41fa-f396-014ac3410b83"
      },
      "source": [
        "df = pd.read_csv('/content/data-engineering-bootcamp/data/sample.csv')\n",
        "df.head(5)"
      ],
      "execution_count": null,
      "outputs": [
        {
          "output_type": "execute_result",
          "data": {
            "text/html": [
              "<div>\n",
              "<style scoped>\n",
              "    .dataframe tbody tr th:only-of-type {\n",
              "        vertical-align: middle;\n",
              "    }\n",
              "\n",
              "    .dataframe tbody tr th {\n",
              "        vertical-align: top;\n",
              "    }\n",
              "\n",
              "    .dataframe thead th {\n",
              "        text-align: right;\n",
              "    }\n",
              "</style>\n",
              "<table border=\"1\" class=\"dataframe\">\n",
              "  <thead>\n",
              "    <tr style=\"text-align: right;\">\n",
              "      <th></th>\n",
              "      <th>producto</th>\n",
              "      <th>presentacion</th>\n",
              "      <th>marca</th>\n",
              "      <th>categoria</th>\n",
              "      <th>catalogo</th>\n",
              "      <th>precio</th>\n",
              "      <th>fechaRegistro</th>\n",
              "      <th>cadenaComercial</th>\n",
              "      <th>giro</th>\n",
              "      <th>nombreComercial</th>\n",
              "      <th>direccion</th>\n",
              "      <th>estado</th>\n",
              "      <th>municipio</th>\n",
              "      <th>latitud</th>\n",
              "      <th>longitud</th>\n",
              "    </tr>\n",
              "  </thead>\n",
              "  <tbody>\n",
              "    <tr>\n",
              "      <th>0</th>\n",
              "      <td>CUADERNO FORMA ITALIANA</td>\n",
              "      <td>96 HOJAS PASTA DURA. CUADRICULA CHICA</td>\n",
              "      <td>ESTRELLA</td>\n",
              "      <td>MATERIAL ESCOLAR</td>\n",
              "      <td>UTILES ESCOLARES</td>\n",
              "      <td>25.9</td>\n",
              "      <td>2011-05-18 00:00:00.000</td>\n",
              "      <td>ABASTECEDORA LUMEN</td>\n",
              "      <td>PAPELERIAS</td>\n",
              "      <td>ABASTECEDORA LUMEN SUCURSAL VILLA COAPA</td>\n",
              "      <td>CANNES No. 6 ESQ. CANAL DE MIRAMONTES</td>\n",
              "      <td>DISTRITO FEDERAL</td>\n",
              "      <td>TLALPAN</td>\n",
              "      <td>19.29699</td>\n",
              "      <td>-99.125417</td>\n",
              "    </tr>\n",
              "    <tr>\n",
              "      <th>1</th>\n",
              "      <td>CRAYONES</td>\n",
              "      <td>CAJA 12 CERAS. JUMBO. C.B. 201423</td>\n",
              "      <td>CRAYOLA</td>\n",
              "      <td>MATERIAL ESCOLAR</td>\n",
              "      <td>UTILES ESCOLARES</td>\n",
              "      <td>27.5</td>\n",
              "      <td>2011-05-18 00:00:00.000</td>\n",
              "      <td>ABASTECEDORA LUMEN</td>\n",
              "      <td>PAPELERIAS</td>\n",
              "      <td>ABASTECEDORA LUMEN SUCURSAL VILLA COAPA</td>\n",
              "      <td>CANNES No. 6 ESQ. CANAL DE MIRAMONTES</td>\n",
              "      <td>DISTRITO FEDERAL</td>\n",
              "      <td>TLALPAN</td>\n",
              "      <td>19.29699</td>\n",
              "      <td>-99.125417</td>\n",
              "    </tr>\n",
              "    <tr>\n",
              "      <th>2</th>\n",
              "      <td>CRAYONES</td>\n",
              "      <td>CAJA 12 CERAS. TAMANO REGULAR C.B. 201034</td>\n",
              "      <td>CRAYOLA</td>\n",
              "      <td>MATERIAL ESCOLAR</td>\n",
              "      <td>UTILES ESCOLARES</td>\n",
              "      <td>13.9</td>\n",
              "      <td>2011-05-18 00:00:00.000</td>\n",
              "      <td>ABASTECEDORA LUMEN</td>\n",
              "      <td>PAPELERIAS</td>\n",
              "      <td>ABASTECEDORA LUMEN SUCURSAL VILLA COAPA</td>\n",
              "      <td>CANNES No. 6 ESQ. CANAL DE MIRAMONTES</td>\n",
              "      <td>DISTRITO FEDERAL</td>\n",
              "      <td>TLALPAN</td>\n",
              "      <td>19.29699</td>\n",
              "      <td>-99.125417</td>\n",
              "    </tr>\n",
              "    <tr>\n",
              "      <th>3</th>\n",
              "      <td>COLORES DE MADERA</td>\n",
              "      <td>CAJA 12 PIEZAS LARGO. TRIANGULAR. C.B. 640646</td>\n",
              "      <td>PINCELIN</td>\n",
              "      <td>MATERIAL ESCOLAR</td>\n",
              "      <td>UTILES ESCOLARES</td>\n",
              "      <td>46.9</td>\n",
              "      <td>2011-05-18 00:00:00.000</td>\n",
              "      <td>ABASTECEDORA LUMEN</td>\n",
              "      <td>PAPELERIAS</td>\n",
              "      <td>ABASTECEDORA LUMEN SUCURSAL VILLA COAPA</td>\n",
              "      <td>CANNES No. 6 ESQ. CANAL DE MIRAMONTES</td>\n",
              "      <td>DISTRITO FEDERAL</td>\n",
              "      <td>TLALPAN</td>\n",
              "      <td>19.29699</td>\n",
              "      <td>-99.125417</td>\n",
              "    </tr>\n",
              "    <tr>\n",
              "      <th>4</th>\n",
              "      <td>COLOR LARGO</td>\n",
              "      <td>CAJA 36 PIEZAS. CON SACAPUNTAS. 68-4036</td>\n",
              "      <td>CRAYOLA</td>\n",
              "      <td>MATERIAL ESCOLAR</td>\n",
              "      <td>UTILES ESCOLARES</td>\n",
              "      <td>115.0</td>\n",
              "      <td>2011-05-18 00:00:00.000</td>\n",
              "      <td>ABASTECEDORA LUMEN</td>\n",
              "      <td>PAPELERIAS</td>\n",
              "      <td>ABASTECEDORA LUMEN SUCURSAL VILLA COAPA</td>\n",
              "      <td>CANNES No. 6 ESQ. CANAL DE MIRAMONTES</td>\n",
              "      <td>DISTRITO FEDERAL</td>\n",
              "      <td>TLALPAN</td>\n",
              "      <td>19.29699</td>\n",
              "      <td>-99.125417</td>\n",
              "    </tr>\n",
              "  </tbody>\n",
              "</table>\n",
              "</div>"
            ],
            "text/plain": [
              "                  producto  ...   longitud\n",
              "0  CUADERNO FORMA ITALIANA  ... -99.125417\n",
              "1                 CRAYONES  ... -99.125417\n",
              "2                 CRAYONES  ... -99.125417\n",
              "3        COLORES DE MADERA  ... -99.125417\n",
              "4              COLOR LARGO  ... -99.125417\n",
              "\n",
              "[5 rows x 15 columns]"
            ]
          },
          "metadata": {},
          "execution_count": 18
        }
      ]
    },
    {
      "cell_type": "code",
      "metadata": {
        "colab": {
          "base_uri": "https://localhost:8080/",
          "height": 297
        },
        "id": "vgmpMUVHdf89",
        "outputId": "fda1e869-5f79-42c2-e979-5c0102c20b9e"
      },
      "source": [
        "df.describe()"
      ],
      "execution_count": null,
      "outputs": [
        {
          "output_type": "execute_result",
          "data": {
            "text/html": [
              "<div>\n",
              "<style scoped>\n",
              "    .dataframe tbody tr th:only-of-type {\n",
              "        vertical-align: middle;\n",
              "    }\n",
              "\n",
              "    .dataframe tbody tr th {\n",
              "        vertical-align: top;\n",
              "    }\n",
              "\n",
              "    .dataframe thead th {\n",
              "        text-align: right;\n",
              "    }\n",
              "</style>\n",
              "<table border=\"1\" class=\"dataframe\">\n",
              "  <thead>\n",
              "    <tr style=\"text-align: right;\">\n",
              "      <th></th>\n",
              "      <th>precio</th>\n",
              "      <th>latitud</th>\n",
              "      <th>longitud</th>\n",
              "    </tr>\n",
              "  </thead>\n",
              "  <tbody>\n",
              "    <tr>\n",
              "      <th>count</th>\n",
              "      <td>1999.000000</td>\n",
              "      <td>1229.000000</td>\n",
              "      <td>1229.000000</td>\n",
              "    </tr>\n",
              "    <tr>\n",
              "      <th>mean</th>\n",
              "      <td>293.945953</td>\n",
              "      <td>19.399105</td>\n",
              "      <td>-99.185158</td>\n",
              "    </tr>\n",
              "    <tr>\n",
              "      <th>std</th>\n",
              "      <td>1270.865893</td>\n",
              "      <td>0.048795</td>\n",
              "      <td>0.032065</td>\n",
              "    </tr>\n",
              "    <tr>\n",
              "      <th>min</th>\n",
              "      <td>1.200000</td>\n",
              "      <td>19.296990</td>\n",
              "      <td>-99.233180</td>\n",
              "    </tr>\n",
              "    <tr>\n",
              "      <th>25%</th>\n",
              "      <td>13.500000</td>\n",
              "      <td>19.366903</td>\n",
              "      <td>-99.181344</td>\n",
              "    </tr>\n",
              "    <tr>\n",
              "      <th>50%</th>\n",
              "      <td>26.100000</td>\n",
              "      <td>19.366903</td>\n",
              "      <td>-99.181344</td>\n",
              "    </tr>\n",
              "    <tr>\n",
              "      <th>75%</th>\n",
              "      <td>56.100000</td>\n",
              "      <td>19.400879</td>\n",
              "      <td>-99.181344</td>\n",
              "    </tr>\n",
              "    <tr>\n",
              "      <th>max</th>\n",
              "      <td>13497.000000</td>\n",
              "      <td>19.483909</td>\n",
              "      <td>-99.125417</td>\n",
              "    </tr>\n",
              "  </tbody>\n",
              "</table>\n",
              "</div>"
            ],
            "text/plain": [
              "             precio      latitud     longitud\n",
              "count   1999.000000  1229.000000  1229.000000\n",
              "mean     293.945953    19.399105   -99.185158\n",
              "std     1270.865893     0.048795     0.032065\n",
              "min        1.200000    19.296990   -99.233180\n",
              "25%       13.500000    19.366903   -99.181344\n",
              "50%       26.100000    19.366903   -99.181344\n",
              "75%       56.100000    19.400879   -99.181344\n",
              "max    13497.000000    19.483909   -99.125417"
            ]
          },
          "metadata": {},
          "execution_count": 16
        }
      ]
    },
    {
      "cell_type": "code",
      "metadata": {
        "colab": {
          "base_uri": "https://localhost:8080/"
        },
        "id": "8izv4wJ9dlLF",
        "outputId": "598916d3-8555-4ec9-a97a-187a4c8f710b"
      },
      "source": [
        "df.columns"
      ],
      "execution_count": null,
      "outputs": [
        {
          "output_type": "execute_result",
          "data": {
            "text/plain": [
              "Index(['producto', 'presentacion', 'marca', 'categoria', 'catalogo', 'precio',\n",
              "       'fechaRegistro', 'cadenaComercial', 'giro', 'nombreComercial',\n",
              "       'direccion', 'estado', 'municipio', 'latitud', 'longitud'],\n",
              "      dtype='object')"
            ]
          },
          "metadata": {},
          "execution_count": 14
        }
      ]
    },
    {
      "cell_type": "code",
      "metadata": {
        "colab": {
          "base_uri": "https://localhost:8080/"
        },
        "id": "LPfyafDXdrTm",
        "outputId": "5d84fbd8-e8da-4516-a31d-aa7b40d84d9c"
      },
      "source": [
        "df.info()"
      ],
      "execution_count": null,
      "outputs": [
        {
          "output_type": "stream",
          "name": "stdout",
          "text": [
            "<class 'pandas.core.frame.DataFrame'>\n",
            "RangeIndex: 1999 entries, 0 to 1998\n",
            "Data columns (total 15 columns):\n",
            " #   Column           Non-Null Count  Dtype  \n",
            "---  ------           --------------  -----  \n",
            " 0   producto         1999 non-null   object \n",
            " 1   presentacion     1999 non-null   object \n",
            " 2   marca            1999 non-null   object \n",
            " 3   categoria        1999 non-null   object \n",
            " 4   catalogo         1999 non-null   object \n",
            " 5   precio           1999 non-null   float64\n",
            " 6   fechaRegistro    1999 non-null   object \n",
            " 7   cadenaComercial  1999 non-null   object \n",
            " 8   giro             1999 non-null   object \n",
            " 9   nombreComercial  1999 non-null   object \n",
            " 10  direccion        1999 non-null   object \n",
            " 11  estado           1999 non-null   object \n",
            " 12  municipio        1999 non-null   object \n",
            " 13  latitud          1229 non-null   float64\n",
            " 14  longitud         1229 non-null   float64\n",
            "dtypes: float64(3), object(12)\n",
            "memory usage: 234.4+ KB\n"
          ]
        }
      ]
    },
    {
      "cell_type": "markdown",
      "metadata": {
        "id": "FsyxtXyYetG5"
      },
      "source": [
        "## Exploring numerical features"
      ]
    },
    {
      "cell_type": "code",
      "metadata": {
        "colab": {
          "base_uri": "https://localhost:8080/",
          "height": 849
        },
        "id": "_xePMXa4evCt",
        "outputId": "734f0655-eca0-4331-d636-af440d1a0277"
      },
      "source": [
        "sns.set(rc={'figure.figsize':(20,10)})\n",
        "\n",
        "sns.countplot('precio', data=df)\n",
        "plt.title('Precio', fontsize=14)\n",
        "plt.plot()\n",
        "\n",
        "print('Precio Count')\n",
        "df['precio'].value_counts()"
      ],
      "execution_count": null,
      "outputs": [
        {
          "output_type": "stream",
          "name": "stdout",
          "text": [
            "Precio Count\n"
          ]
        },
        {
          "output_type": "execute_result",
          "data": {
            "text/plain": [
              "15.90     17\n",
              "29.90     12\n",
              "49.90     12\n",
              "12.50     11\n",
              "13.50     11\n",
              "          ..\n",
              "19.75      1\n",
              "171.47     1\n",
              "218.00     1\n",
              "36.50      1\n",
              "31.65      1\n",
              "Name: precio, Length: 1014, dtype: int64"
            ]
          },
          "metadata": {},
          "execution_count": 23
        },
        {
          "output_type": "display_data",
          "data": {
            "image/png": "[encoded data removed]",
            "text/plain": [
              "<Figure size 1440x720 with 1 Axes>"
            ]
          },
          "metadata": {}
        }
      ]
    },
    {
      "cell_type": "markdown",
      "metadata": {
        "id": "ulrLGztBgzjv"
      },
      "source": [
        "## Exploring text features\n",
        " * producto - object \n",
        " * presentacion - object \n",
        " * marca - object \n",
        " * categoria - object \n",
        " * catalogo - object \n",
        " * fechaRegistro - object \n",
        " * cadenaComercial - object \n",
        " * giro - object \n",
        " * nombreComercial - object \n",
        " * direccion - object \n",
        " * estado - object \n",
        " * municipio - object "
      ]
    },
    {
      "cell_type": "markdown",
      "metadata": {
        "id": "Q3IZDVtZiZ_s"
      },
      "source": [
        "Feature `producto`"
      ]
    },
    {
      "cell_type": "code",
      "metadata": {
        "colab": {
          "base_uri": "https://localhost:8080/"
        },
        "id": "Jb6NAtPGg_GP",
        "outputId": "c80a5b5a-804d-48c3-ff59-78898c497eeb"
      },
      "source": [
        "print('INFO: There are {} categories in the feature `producto`.'.format(len(df.producto.value_counts())))\n",
        "print('INFO: Some examples')\n",
        "df.producto.value_counts()"
      ],
      "execution_count": null,
      "outputs": [
        {
          "output_type": "stream",
          "name": "stdout",
          "text": [
            "INFO: There are 330 categories in the feature `producto`.\n",
            "INFO: Some examples\n"
          ]
        },
        {
          "output_type": "execute_result",
          "data": {
            "text/plain": [
              "DETERGENTE P/ROPA          49\n",
              "REFRESCO                   48\n",
              "LECHE ULTRAPASTEURIZADA    40\n",
              "CHILES EN LATA             39\n",
              "MAYONESA                   37\n",
              "                           ..\n",
              "CAPOTENA                    1\n",
              "DICLOXACILINA               1\n",
              "CAMARON SECO                1\n",
              "CISAPRIDA                   1\n",
              "VILONA                      1\n",
              "Name: producto, Length: 330, dtype: int64"
            ]
          },
          "metadata": {},
          "execution_count": 37
        }
      ]
    },
    {
      "cell_type": "markdown",
      "metadata": {
        "id": "R5A4IHZoifVu"
      },
      "source": [
        "Feature `presentacion`"
      ]
    },
    {
      "cell_type": "code",
      "metadata": {
        "colab": {
          "base_uri": "https://localhost:8080/"
        },
        "id": "TI_7cP9CiiEY",
        "outputId": "b32ca933-b864-4753-e79a-5a4c0a4b0f29"
      },
      "source": [
        "print('INFO: There are {} categories in the feature `presentacion`.'.format(len(df.presentacion.value_counts())))\n",
        "print('INFO: Some examples')\n",
        "df.presentacion.value_counts()"
      ],
      "execution_count": null,
      "outputs": [
        {
          "output_type": "stream",
          "name": "stdout",
          "text": [
            "INFO: There are 767 categories in the feature `presentacion`.\n",
            "INFO: Some examples\n"
          ]
        },
        {
          "output_type": "execute_result",
          "data": {
            "text/plain": [
              "1 KG. GRANEL                                                                                            27\n",
              "1 KG.                                                                                                   19\n",
              "CAJA                                                                                                    16\n",
              "BOLSA 1 KG. POLVO                                                                                       15\n",
              "BOLSA 400 GR.                                                                                           14\n",
              "                                                                                                        ..\n",
              "TRANSPARENTE DE 25 A 100 WATTS                                                                           1\n",
              "SDR-T51. FORMATO MEMORIA INTERNA. ZOOM OPTICO DIGITAL 78X/N/I. FUNCION DE CAMARA DIGITAL. PUERTO USB     1\n",
              "W200. VAPOR. SUELA ANTIADHERENTE                                                                         1\n",
              "CAJA CON 10 TABLETAS 10 MG.                                                                              1\n",
              "SUBITO (TO102150)                                                                                        1\n",
              "Name: presentacion, Length: 767, dtype: int64"
            ]
          },
          "metadata": {},
          "execution_count": 35
        }
      ]
    },
    {
      "cell_type": "markdown",
      "metadata": {
        "id": "0Ey4zk82j-c9"
      },
      "source": [
        "Feature `marca`"
      ]
    },
    {
      "cell_type": "code",
      "metadata": {
        "colab": {
          "base_uri": "https://localhost:8080/"
        },
        "id": "nqRwFDz6kJwF",
        "outputId": "790ea6d3-cc4d-4830-d98b-464e92eec319"
      },
      "source": [
        "print('INFO: There are {} categories in the feature `marca`.'.format(len(df.marca.value_counts())))\n",
        "print('INFO: Some examples')\n",
        "df.marca.value_counts()"
      ],
      "execution_count": null,
      "outputs": [
        {
          "output_type": "stream",
          "name": "stdout",
          "text": [
            "INFO: There are 395 categories in the feature `marca`.\n",
            "INFO: Some examples\n"
          ]
        },
        {
          "output_type": "execute_result",
          "data": {
            "text/plain": [
              "S/M                      397\n",
              "LA COSTENA                62\n",
              "SONY                      28\n",
              "HERDEZ                    28\n",
              "SIN MARCA                 28\n",
              "                        ... \n",
              "MERCK-MEXICO, S.A.         1\n",
              "ZWAN                       1\n",
              "BOHEMIA.                   1\n",
              "MORELIA. PRESIDENCIAL      1\n",
              "ALBERTO. VO5               1\n",
              "Name: marca, Length: 395, dtype: int64"
            ]
          },
          "metadata": {},
          "execution_count": 38
        }
      ]
    },
    {
      "cell_type": "markdown",
      "metadata": {
        "id": "8_ux5HJtk0Oc"
      },
      "source": [
        "Feature `categoria`"
      ]
    },
    {
      "cell_type": "code",
      "metadata": {
        "colab": {
          "base_uri": "https://localhost:8080/"
        },
        "id": "RfzYIroMk3L8",
        "outputId": "bc1781ad-822b-45ad-edfc-4513c1ca973b"
      },
      "source": [
        "print('INFO: There are {} categories in the feature `categoria`.'.format(len(df.categoria.value_counts())))\n",
        "print('INFO: Some examples')\n",
        "df.categoria.value_counts()"
      ],
      "execution_count": null,
      "outputs": [
        {
          "output_type": "stream",
          "name": "stdout",
          "text": [
            "INFO: There are 36 categories in the feature `categoria`.\n",
            "INFO: Some examples\n"
          ]
        },
        {
          "output_type": "execute_result",
          "data": {
            "text/plain": [
              "ARTS. PARA EL CUIDADO PERSONAL        197\n",
              "CARNES FRIAS SECAS Y EMBUTIDOS        136\n",
              "DETERGENTES Y PRODUCTOS SIMILARES     124\n",
              "FRUTAS Y LEGUMBRES PROCESADAS         124\n",
              "CONDIMENTOS                           123\n",
              "MEDICAMENTOS                          122\n",
              "DERIVADOS DE LECHE                    117\n",
              "REFRESCOS ENVASADOS                    95\n",
              "LECHE PROCESADA                        92\n",
              "ARTS. DE PAPEL P/HIGIENE PERSONAL      82\n",
              "HORTALIZAS FRESCAS                     80\n",
              "APARATOS ELECTRONICOS                  80\n",
              "GALLETAS PASTAS Y HARINAS DE TRIGO     68\n",
              "CHOCOLATES Y GOLOSINAS                 63\n",
              "APARATOS ELECTRICOS                    60\n",
              "ACEITES Y GRASAS VEG. COMESTIBLES      54\n",
              "FRUTAS FRESCAS                         46\n",
              "ARROZ Y CEREALES PREPARADOS            46\n",
              "PRODUCTOS DE TEMPORADA (NAVIDEÐOS)     44\n",
              "CAFE                                   33\n",
              "LEGUMBRES SECAS                        33\n",
              "PAN                                    26\n",
              "CERVEZA                                25\n",
              "PESCADOS Y MARISCOS EN CONSERVA        23\n",
              "CARNE Y VISCERAS DE RES                18\n",
              "TORTILLAS Y DERIVADOS DEL MAIZ         17\n",
              "HUEVO                                  17\n",
              "CARNE Y VISCERAS DE CERDO              15\n",
              "MATERIAL ESCOLAR                        9\n",
              "ACCESORIOS DOMESTICOS                   9\n",
              "CARNE DE AVE                            8\n",
              "AZUCAR                                  5\n",
              "MUEBLES DE COCINA                       3\n",
              "TE                                      2\n",
              "PESCADOS Y MARISCOS                     2\n",
              "UTENSILIOS DOMESTICOS                   1\n",
              "Name: categoria, dtype: int64"
            ]
          },
          "metadata": {},
          "execution_count": 39
        }
      ]
    },
    {
      "cell_type": "markdown",
      "metadata": {
        "id": "sZqTfzRHk-xx"
      },
      "source": [
        "Feature `catalogo`"
      ]
    },
    {
      "cell_type": "code",
      "metadata": {
        "colab": {
          "base_uri": "https://localhost:8080/"
        },
        "id": "CSoZYTMClEhH",
        "outputId": "daf63284-f726-4958-bbf3-0f2518e2afd1"
      },
      "source": [
        "print('INFO: There are {} categories in the feature `catalogo`.'.format(len(df.catalogo.value_counts())))\n",
        "print('INFO: Some examples')\n",
        "df.catalogo.value_counts()"
      ],
      "execution_count": null,
      "outputs": [
        {
          "output_type": "stream",
          "name": "stdout",
          "text": [
            "INFO: There are 6 categories in the feature `catalogo`.\n",
            "INFO: Some examples\n"
          ]
        },
        {
          "output_type": "execute_result",
          "data": {
            "text/plain": [
              "BASICOS               1393\n",
              "MERCADOS               206\n",
              "ELECTRODOMESTICOS      144\n",
              "FRUTAS Y LEGUMBRES     124\n",
              "MEDICAMENTOS           123\n",
              "UTILES ESCOLARES         9\n",
              "Name: catalogo, dtype: int64"
            ]
          },
          "metadata": {},
          "execution_count": 40
        }
      ]
    },
    {
      "cell_type": "markdown",
      "metadata": {
        "id": "LAkdOq8xlh1z"
      },
      "source": [
        "Feature `fechaRegistro`"
      ]
    },
    {
      "cell_type": "code",
      "metadata": {
        "colab": {
          "base_uri": "https://localhost:8080/"
        },
        "id": "MCRQtW-allrP",
        "outputId": "a2d9fa41-d975-40dc-ca2e-d941d5e701a5"
      },
      "source": [
        "print('INFO: There are {} categories in the feature `fechaRegistro`.'.format(len(df.fechaRegistro.value_counts())))\n",
        "print('INFO: Some examples')\n",
        "df.fechaRegistro.value_counts()"
      ],
      "execution_count": null,
      "outputs": [
        {
          "output_type": "stream",
          "name": "stdout",
          "text": [
            "INFO: There are 2 categories in the feature `fechaRegistro`.\n",
            "INFO: Some examples\n"
          ]
        },
        {
          "output_type": "execute_result",
          "data": {
            "text/plain": [
              "2011-01-10 00:00:00.000    1990\n",
              "2011-05-18 00:00:00.000       9\n",
              "Name: fechaRegistro, dtype: int64"
            ]
          },
          "metadata": {},
          "execution_count": 41
        }
      ]
    },
    {
      "cell_type": "markdown",
      "metadata": {
        "id": "TB4vTlj_lnAO"
      },
      "source": [
        "Feature `cadenaComercial`"
      ]
    },
    {
      "cell_type": "code",
      "metadata": {
        "colab": {
          "base_uri": "https://localhost:8080/"
        },
        "id": "u7AXXP_InfeU",
        "outputId": "ac1fd455-13b8-47e0-9c3e-640f74289b0e"
      },
      "source": [
        "print('INFO: There are {} categories in the feature `cadenaComercial`.'.format(len(df.cadenaComercial.value_counts())))\n",
        "print('INFO: Some examples')\n",
        "df.cadenaComercial.value_counts()"
      ],
      "execution_count": null,
      "outputs": [
        {
          "output_type": "stream",
          "name": "stdout",
          "text": [
            "INFO: There are 4 categories in the feature `cadenaComercial`.\n",
            "INFO: Some examples\n"
          ]
        },
        {
          "output_type": "execute_result",
          "data": {
            "text/plain": [
              "COMERCIAL MEXICANA    1508\n",
              "WAL-MART               287\n",
              "I.S.S.S.T.E.           195\n",
              "ABASTECEDORA LUMEN       9\n",
              "Name: cadenaComercial, dtype: int64"
            ]
          },
          "metadata": {},
          "execution_count": 42
        }
      ]
    },
    {
      "cell_type": "markdown",
      "metadata": {
        "id": "UlyV1Iqfltw-"
      },
      "source": [
        "Feature `giro`"
      ]
    },
    {
      "cell_type": "code",
      "metadata": {
        "colab": {
          "base_uri": "https://localhost:8080/"
        },
        "id": "iGgXliPunjls",
        "outputId": "55f90802-1be0-4736-c8a5-5527e1dfe861"
      },
      "source": [
        "print('INFO: There are {} categories in the feature `giro`.'.format(len(df.giro.value_counts())))\n",
        "print('INFO: Some examples')\n",
        "df.giro.value_counts()"
      ],
      "execution_count": null,
      "outputs": [
        {
          "output_type": "stream",
          "name": "stdout",
          "text": [
            "INFO: There are 2 categories in the feature `giro`.\n",
            "INFO: Some examples\n"
          ]
        },
        {
          "output_type": "execute_result",
          "data": {
            "text/plain": [
              "TIENDA DE AUTOSERVICIO    1990\n",
              "PAPELERIAS                   9\n",
              "Name: giro, dtype: int64"
            ]
          },
          "metadata": {},
          "execution_count": 43
        }
      ]
    },
    {
      "cell_type": "markdown",
      "metadata": {
        "id": "vMuj_Ws8mXIa"
      },
      "source": [
        "Feature `nombreComercial`"
      ]
    },
    {
      "cell_type": "code",
      "metadata": {
        "colab": {
          "base_uri": "https://localhost:8080/"
        },
        "id": "3WlVPrksnoUI",
        "outputId": "6aa388d1-c956-4742-9bca-8998bdb31839"
      },
      "source": [
        "print('INFO: There are {} categories in the feature `nombreComercial`.'.format(len(df.nombreComercial.value_counts())))\n",
        "print('INFO: Some examples')\n",
        "df.nombreComercial.value_counts()"
      ],
      "execution_count": null,
      "outputs": [
        {
          "output_type": "stream",
          "name": "stdout",
          "text": [
            "INFO: There are 5 categories in the feature `nombreComercial`.\n",
            "INFO: Some examples\n"
          ]
        },
        {
          "output_type": "execute_result",
          "data": {
            "text/plain": [
              "COMERCIAL MEXICANA SUCURSAL VILLAS DE LA HACIENDA    770\n",
              "COMERCIAL MEXICANA SUCURSAL INSURGENTES              738\n",
              "WAL MART SUCURSAL ECHEGARAY                          287\n",
              "I.S.S.S.T.E. SUCURSAL 7                              195\n",
              "ABASTECEDORA LUMEN SUCURSAL VILLA COAPA                9\n",
              "Name: nombreComercial, dtype: int64"
            ]
          },
          "metadata": {},
          "execution_count": 44
        }
      ]
    },
    {
      "cell_type": "markdown",
      "metadata": {
        "id": "bJmX3dFSmY2X"
      },
      "source": [
        "Feature `direccion`"
      ]
    },
    {
      "cell_type": "code",
      "metadata": {
        "colab": {
          "base_uri": "https://localhost:8080/"
        },
        "id": "X51qEGPooLj_",
        "outputId": "59e02188-973e-48a6-bbf2-fa303cecb34c"
      },
      "source": [
        "print('INFO: There are {} categories in the feature `direccion`.'.format(len(df.direccion.value_counts())))\n",
        "print('INFO: Some examples')\n",
        "df.direccion.value_counts()"
      ],
      "execution_count": null,
      "outputs": [
        {
          "output_type": "stream",
          "name": "stdout",
          "text": [
            "INFO: There are 5 categories in the feature `direccion`.\n",
            "INFO: Some examples\n"
          ]
        },
        {
          "output_type": "execute_result",
          "data": {
            "text/plain": [
              "AV. LAGO DE GUADALUPE S/N ESQ. DE LAS VILLAS            770\n",
              "PERPETUA NO. 35 ESQ. INSURGENTES SUR                    738\n",
              "EMILIANO ZAPATA NO. 7     ENTRE REFORMA Y CUAUHTEMOC    287\n",
              "CORUÑA S/N ESQ. SUR 65-A                                195\n",
              "CANNES No. 6 ESQ. CANAL DE MIRAMONTES                     9\n",
              "Name: direccion, dtype: int64"
            ]
          },
          "metadata": {},
          "execution_count": 45
        }
      ]
    },
    {
      "cell_type": "markdown",
      "metadata": {
        "id": "ATg1qD3qmaRf"
      },
      "source": [
        "Feature `estado`"
      ]
    },
    {
      "cell_type": "code",
      "metadata": {
        "colab": {
          "base_uri": "https://localhost:8080/"
        },
        "id": "6yWBKmTcoSgy",
        "outputId": "e70f9128-a173-4645-f998-b2078eb8cec8"
      },
      "source": [
        "print('INFO: There are {} categories in the feature `estado`.'.format(len(df.estado.value_counts())))\n",
        "print('INFO: Some examples')\n",
        "df.estado.value_counts()"
      ],
      "execution_count": null,
      "outputs": [
        {
          "output_type": "stream",
          "name": "stdout",
          "text": [
            "INFO: There are 2 categories in the feature `estado`.\n",
            "INFO: Some examples\n"
          ]
        },
        {
          "output_type": "execute_result",
          "data": {
            "text/plain": [
              "MÉXICO              1057\n",
              "DISTRITO FEDERAL     942\n",
              "Name: estado, dtype: int64"
            ]
          },
          "metadata": {},
          "execution_count": 46
        }
      ]
    },
    {
      "cell_type": "markdown",
      "metadata": {
        "id": "16LGRUZGmcJk"
      },
      "source": [
        "Feature `municipio`"
      ]
    },
    {
      "cell_type": "code",
      "metadata": {
        "colab": {
          "base_uri": "https://localhost:8080/"
        },
        "id": "KkCEJXKXoWRj",
        "outputId": "90fc97b6-2ea6-41ca-e4fc-646abfd015f9"
      },
      "source": [
        "print('INFO: There are {} categories in the feature `municipio`.'.format(len(df.municipio.value_counts())))\n",
        "print('INFO: Some examples')\n",
        "df.municipio.value_counts()"
      ],
      "execution_count": null,
      "outputs": [
        {
          "output_type": "stream",
          "name": "stdout",
          "text": [
            "INFO: There are 5 categories in the feature `municipio`.\n",
            "INFO: Some examples\n"
          ]
        },
        {
          "output_type": "execute_result",
          "data": {
            "text/plain": [
              "ATIZAPAN                                    770\n",
              "BENITO JUAREZ                               738\n",
              "NAUCALPAN                                   287\n",
              "IZTACALCO                                   195\n",
              "TLALPAN                                       9\n",
              "Name: municipio, dtype: int64"
            ]
          },
          "metadata": {},
          "execution_count": 47
        }
      ]
    },
    {
      "cell_type": "markdown",
      "metadata": {
        "id": "zmp0Ml46Fu_b"
      },
      "source": [
        "# Processing all data"
      ]
    },
    {
      "cell_type": "markdown",
      "metadata": {
        "id": "q7NPkLTa-HvJ"
      },
      "source": [
        "## Getting all data"
      ]
    },
    {
      "cell_type": "code",
      "metadata": {
        "colab": {
          "base_uri": "https://localhost:8080/"
        },
        "id": "4B-F1rCdu5W_",
        "outputId": "200e19ae-4b2e-484a-ba64-f1729436f20a"
      },
      "source": [
        "!git clone https://github.com/chentinghao/download_google_drive.git\n",
        "%cd download_google_drive/\n",
        "!python download_gdrive.py 1crFR4yrS_6DV3_Fh-HrhANJg1-qlyE-O profeco.zip"
      ],
      "execution_count": 2,
      "outputs": [
        {
          "output_type": "stream",
          "name": "stdout",
          "text": [
            "Cloning into 'download_google_drive'...\n",
            "remote: Enumerating objects: 16, done.\u001b[K\n",
            "remote: Total 16 (delta 0), reused 0 (delta 0), pack-reused 16\u001b[K\n",
            "Unpacking objects: 100% (16/16), done.\n",
            "/content/download_google_drive\n",
            "1.50GB [00:16, 98.9MB/s]\n"
          ]
        }
      ]
    },
    {
      "cell_type": "code",
      "metadata": {
        "colab": {
          "base_uri": "https://localhost:8080/"
        },
        "id": "T24V7eHFtGBx",
        "outputId": "678484c6-9d91-4776-982c-468a213f2fff"
      },
      "source": [
        "!unzip /content/download_google_drive/profeco.zip"
      ],
      "execution_count": 3,
      "outputs": [
        {
          "output_type": "stream",
          "name": "stdout",
          "text": [
            "Archive:  /content/download_google_drive/profeco.zip\n",
            "  inflating: all_data.csv            \n"
          ]
        }
      ]
    },
    {
      "cell_type": "markdown",
      "metadata": {
        "id": "PDJmHJF5Jr9d"
      },
      "source": [
        "## Split data in chunks"
      ]
    },
    {
      "cell_type": "code",
      "metadata": {
        "id": "JNvb5Aa4-XlN",
        "colab": {
          "base_uri": "https://localhost:8080/"
        },
        "outputId": "2b0b7c5a-0a5b-4e83-d8ce-28fc45512c81"
      },
      "source": [
        "# Counting the number of rows in the file\n",
        "! wc -l /content/download_google_drive/all_data.csv"
      ],
      "execution_count": 4,
      "outputs": [
        {
          "output_type": "stream",
          "name": "stdout",
          "text": [
            "62530716 /content/download_google_drive/all_data.csv\n"
          ]
        }
      ]
    },
    {
      "cell_type": "code",
      "metadata": {
        "id": "Pc-aY46rCXb3"
      },
      "source": [
        "# Split dataset in 10M chunks to be processed\n",
        "! split -l 10000000 -d /content/download_google_drive/all_data.csv /content/download_google_drive/"
      ],
      "execution_count": 5,
      "outputs": []
    },
    {
      "cell_type": "code",
      "metadata": {
        "id": "Dbs3PvBnZjVt"
      },
      "source": [
        "# delete big file\n",
        "! rm /content/download_google_drive/all_data.csv"
      ],
      "execution_count": 6,
      "outputs": []
    },
    {
      "cell_type": "markdown",
      "metadata": {
        "id": "B8e4Eofd-E-o"
      },
      "source": [
        "## Convert data to parquet"
      ]
    },
    {
      "cell_type": "code",
      "metadata": {
        "id": "8SW1cHFMt2wE",
        "colab": {
          "base_uri": "https://localhost:8080/"
        },
        "outputId": "7f4dc266-76fe-4ef0-9934-58ac12f01795"
      },
      "source": [
        "import pyarrow.csv as pv\n",
        "import pyarrow.parquet as pq\n",
        "import gc\n",
        "\n",
        "chunk_list = [\n",
        "            '/content/download_google_drive/00',\n",
        "            '/content/download_google_drive/01',\n",
        "            '/content/download_google_drive/02',\n",
        "            '/content/download_google_drive/03',\n",
        "            '/content/download_google_drive/04',\n",
        "            '/content/download_google_drive/05',\n",
        "            '/content/download_google_drive/06',\n",
        "          ]\n",
        "\n",
        "#filename = '/content/data-engineering-bootcamp/data_chunks00'\n",
        "\n",
        "for chunk in chunk_list:\n",
        "  table = pv.read_csv(chunk)\n",
        "  pq.write_table(table, chunk.replace('csv', 'parquet'))\n",
        "  del table\n",
        "  gc.collect()\n",
        "  gc.collect()\n",
        "  gc.collect()\n",
        "\n",
        "  print('INFO: Chunk CSV {} converted to PARQUET'.format(chunk))\n",
        "\n",
        "print('INFO: CSV files converted to PARQUET')"
      ],
      "execution_count": 7,
      "outputs": [
        {
          "output_type": "stream",
          "name": "stdout",
          "text": [
            "INFO: Chunk CSV /content/download_google_drive/00 converted to PARQUET\n",
            "INFO: Chunk CSV /content/download_google_drive/01 converted to PARQUET\n",
            "INFO: Chunk CSV /content/download_google_drive/02 converted to PARQUET\n",
            "INFO: Chunk CSV /content/download_google_drive/03 converted to PARQUET\n",
            "INFO: Chunk CSV /content/download_google_drive/04 converted to PARQUET\n",
            "INFO: Chunk CSV /content/download_google_drive/05 converted to PARQUET\n",
            "INFO: Chunk CSV /content/download_google_drive/06 converted to PARQUET\n",
            "INFO: CSV files converted to PARQUET\n"
          ]
        }
      ]
    },
    {
      "cell_type": "markdown",
      "metadata": {
        "id": "dxY3lFU-Nezx"
      },
      "source": [
        "## Setup PySpark session"
      ]
    },
    {
      "cell_type": "code",
      "metadata": {
        "id": "_YJ-qPQnMQnW"
      },
      "source": [
        "# Install dependencies\n",
        "!apt-get install openjdk-8-jdk-headless -qq > /dev/null\n",
        "!wget -q https://downloads.apache.org/spark/spark-3.1.2/spark-3.1.2-bin-hadoop3.2.tgz \n",
        "!tar -xvf spark-3.1.2-bin-hadoop3.2.tgz\n",
        "!pip install -q findspark\n",
        "!pip install pyspark"
      ],
      "execution_count": null,
      "outputs": []
    },
    {
      "cell_type": "code",
      "metadata": {
        "id": "h6xAINQiNlr9"
      },
      "source": [
        "from pyspark.sql import SparkSession\n",
        "from pyspark.sql import functions as f\n",
        "from pyspark.sql.functions import *\n",
        "from pyspark.sql.types import StringType, IntegerType\n",
        "import pyspark\n",
        "from pyspark import SparkContext\n",
        "from pyspark import SparkConf\n",
        "\n",
        "sc = SparkContext()\n",
        "spark = SparkSession.builder.getOrCreate()"
      ],
      "execution_count": 1,
      "outputs": []
    },
    {
      "cell_type": "code",
      "metadata": {
        "id": "cWuDuTWrPgc2"
      },
      "source": [
        "sparkDF = spark.read.parquet('/content/download_google_drive/00','/content/download_google_drive/01','/content/download_google_drive/02','/content/download_google_drive/03','/content/download_google_drive/04','/content/download_google_drive/05','/content/download_google_drive/06',)"
      ],
      "execution_count": 2,
      "outputs": []
    },
    {
      "cell_type": "markdown",
      "metadata": {
        "id": "nps-8DAskCAw"
      },
      "source": [
        "### Inspect data"
      ]
    },
    {
      "cell_type": "code",
      "metadata": {
        "colab": {
          "base_uri": "https://localhost:8080/"
        },
        "id": "wFyTxSzXkLLC",
        "outputId": "b840d46d-7d45-47ef-d31c-a586fd2f7d2d"
      },
      "source": [
        "# Returns dataframe column names and data types\n",
        "sparkDF.dtypes"
      ],
      "execution_count": 4,
      "outputs": [
        {
          "output_type": "execute_result",
          "data": {
            "text/plain": [
              "[('producto', 'string'),\n",
              " ('presentacion', 'string'),\n",
              " ('marca', 'string'),\n",
              " ('categoria', 'string'),\n",
              " ('catalogo', 'string'),\n",
              " ('precio', 'double'),\n",
              " ('fechaRegistro', 'string'),\n",
              " ('cadenaComercial', 'string'),\n",
              " ('giro', 'string'),\n",
              " ('nombreComercial', 'string'),\n",
              " ('direccion', 'string'),\n",
              " ('estado', 'string'),\n",
              " ('municipio', 'string'),\n",
              " ('latitud', 'double'),\n",
              " ('longitud', 'double')]"
            ]
          },
          "metadata": {},
          "execution_count": 4
        }
      ]
    },
    {
      "cell_type": "code",
      "metadata": {
        "colab": {
          "base_uri": "https://localhost:8080/"
        },
        "id": "U8TjxV64kWCv",
        "outputId": "657bc896-3422-4631-ece1-4b576c60ad80"
      },
      "source": [
        "# Displays the content of dataframe\n",
        "sparkDF.show()"
      ],
      "execution_count": 14,
      "outputs": [
        {
          "output_type": "stream",
          "name": "stdout",
          "text": [
            "+--------+------------+-----+---------+--------+------+-------------+---------------+----+---------------+---------+------+---------+-------+--------+\n",
            "|producto|presentacion|marca|categoria|catalogo|precio|fechaRegistro|cadenaComercial|giro|nombreComercial|direccion|estado|municipio|latitud|longitud|\n",
            "+--------+------------+-----+---------+--------+------+-------------+---------------+----+---------------+---------+------+---------+-------+--------+\n",
            "|    null|        null| null|     null|    null|  null|         null|           null|null|           null|     null|  null|     null|   null|    null|\n",
            "|    null|        null| null|     null|    null|  null|         null|           null|null|           null|     null|  null|     null|   null|    null|\n",
            "|    null|        null| null|     null|    null|  null|         null|           null|null|           null|     null|  null|     null|   null|    null|\n",
            "|    null|        null| null|     null|    null|  null|         null|           null|null|           null|     null|  null|     null|   null|    null|\n",
            "|    null|        null| null|     null|    null|  null|         null|           null|null|           null|     null|  null|     null|   null|    null|\n",
            "|    null|        null| null|     null|    null|  null|         null|           null|null|           null|     null|  null|     null|   null|    null|\n",
            "|    null|        null| null|     null|    null|  null|         null|           null|null|           null|     null|  null|     null|   null|    null|\n",
            "|    null|        null| null|     null|    null|  null|         null|           null|null|           null|     null|  null|     null|   null|    null|\n",
            "|    null|        null| null|     null|    null|  null|         null|           null|null|           null|     null|  null|     null|   null|    null|\n",
            "|    null|        null| null|     null|    null|  null|         null|           null|null|           null|     null|  null|     null|   null|    null|\n",
            "|    null|        null| null|     null|    null|  null|         null|           null|null|           null|     null|  null|     null|   null|    null|\n",
            "|    null|        null| null|     null|    null|  null|         null|           null|null|           null|     null|  null|     null|   null|    null|\n",
            "|    null|        null| null|     null|    null|  null|         null|           null|null|           null|     null|  null|     null|   null|    null|\n",
            "|    null|        null| null|     null|    null|  null|         null|           null|null|           null|     null|  null|     null|   null|    null|\n",
            "|    null|        null| null|     null|    null|  null|         null|           null|null|           null|     null|  null|     null|   null|    null|\n",
            "|    null|        null| null|     null|    null|  null|         null|           null|null|           null|     null|  null|     null|   null|    null|\n",
            "|    null|        null| null|     null|    null|  null|         null|           null|null|           null|     null|  null|     null|   null|    null|\n",
            "|    null|        null| null|     null|    null|  null|         null|           null|null|           null|     null|  null|     null|   null|    null|\n",
            "|    null|        null| null|     null|    null|  null|         null|           null|null|           null|     null|  null|     null|   null|    null|\n",
            "|    null|        null| null|     null|    null|  null|         null|           null|null|           null|     null|  null|     null|   null|    null|\n",
            "+--------+------------+-----+---------+--------+------+-------------+---------------+----+---------------+---------+------+---------+-------+--------+\n",
            "only showing top 20 rows\n",
            "\n"
          ]
        }
      ]
    },
    {
      "cell_type": "code",
      "metadata": {
        "colab": {
          "base_uri": "https://localhost:8080/"
        },
        "id": "LYLJc8CPQHRx",
        "outputId": "46fa4a6f-5b32-44f6-8581-fbdd4df8e650"
      },
      "source": [
        "# Computes summary statistics\n",
        "sparkDF.describe().show()"
      ],
      "execution_count": 15,
      "outputs": [
        {
          "output_type": "stream",
          "name": "stdout",
          "text": [
            "+-------+--------+--------------------+--------------------+--------------------+----------------+------------------+--------------------+----------------+--------------------+--------------------+--------------------+---------+--------------------+------------------+------------------+\n",
            "|summary|producto|        presentacion|               marca|           categoria|        catalogo|            precio|       fechaRegistro| cadenaComercial|                giro|     nombreComercial|           direccion|   estado|           municipio|           latitud|          longitud|\n",
            "+-------+--------+--------------------+--------------------+--------------------+----------------+------------------+--------------------+----------------+--------------------+--------------------+--------------------+---------+--------------------+------------------+------------------+\n",
            "|  count| 9999999|             9999999|             9999999|             9999999|         9999999|           9999999|             9999999|         9999999|             9999999|             9999999|             9999999|  9999999|             9999999|           9617917|           9617917|\n",
            "|   mean|    null|   98752.60534960113|              1880.0|                null|            null| 483.5601069920454|                null|            null|                null|                null|                null|     null|                null|20.659140324331048|-99.69632305069435|\n",
            "| stddev|    null|   44501.07054071845|                 0.0|                null|            null|1887.6727978889464|                null|            null|                null|                null|                null|     null|                null|2.2740743914509784|4.1849613619282415|\n",
            "|    min| A.S.COR|# 6017872 O C.B. ...|'PAPER MATE. ERAS...|ACCESORIOS DOMEST...|                |              0.45|2011-01-03 00:00:...|        7 ELEVEN|ARTICULOS DEPORTIVOS|7 ELEVEN SUCURSAL...|05 DE MAYO 202, P...|         |                    |         17.039429|       -111.011497|\n",
            "|    max| ZYPREXA|ZS-S10CP. BOCINAS...|             iO MABE|     VINOS Y LICORES|UTILES ESCOLARES|           99999.0|2012-12-14 00:00:...|ZARAGOZA MUEBLES|           ZAPATERIA|ZARAGOZA MUEBLES ...|ZURICH NO. 1039, ...|ZACATECAS|ZINACANTEPEC     ...|          29.14444|        -86.824104|\n",
            "+-------+--------+--------------------+--------------------+--------------------+----------------+------------------+--------------------+----------------+--------------------+--------------------+--------------------+---------+--------------------+------------------+------------------+\n",
            "\n"
          ]
        }
      ]
    },
    {
      "cell_type": "code",
      "metadata": {
        "colab": {
          "base_uri": "https://localhost:8080/"
        },
        "id": "a82Phvkskp1R",
        "outputId": "6988ffe2-00d0-4424-ebf0-c3ea35a982dc"
      },
      "source": [
        "# Returns columns of dataframe\n",
        "sparkDF.columns"
      ],
      "execution_count": 16,
      "outputs": [
        {
          "output_type": "execute_result",
          "data": {
            "text/plain": [
              "['producto',\n",
              " 'presentacion',\n",
              " 'marca',\n",
              " 'categoria',\n",
              " 'catalogo',\n",
              " 'precio',\n",
              " 'fechaRegistro',\n",
              " 'cadenaComercial',\n",
              " 'giro',\n",
              " 'nombreComercial',\n",
              " 'direccion',\n",
              " 'estado',\n",
              " 'municipio',\n",
              " 'latitud',\n",
              " 'longitud']"
            ]
          },
          "metadata": {},
          "execution_count": 16
        }
      ]
    },
    {
      "cell_type": "code",
      "metadata": {
        "colab": {
          "base_uri": "https://localhost:8080/"
        },
        "id": "-Fstpm70s-oG",
        "outputId": "89b597d0-de96-435d-b930-713fb33ff370"
      },
      "source": [
        "# Counts the number of rows in dataframe\n",
        "sparkDF.count()"
      ],
      "execution_count": 19,
      "outputs": [
        {
          "output_type": "execute_result",
          "data": {
            "text/plain": [
              "62530709"
            ]
          },
          "metadata": {},
          "execution_count": 19
        }
      ]
    },
    {
      "cell_type": "code",
      "metadata": {
        "colab": {
          "base_uri": "https://localhost:8080/"
        },
        "id": "JBLIWIP7QOCX",
        "outputId": "da12c891-7fdf-45aa-ddd5-2b8c50850127"
      },
      "source": [
        "# Counts the number of distinct rows in dataframe\n",
        "sparkDF.distinct().count()"
      ],
      "execution_count": 5,
      "outputs": [
        {
          "output_type": "execute_result",
          "data": {
            "text/plain": [
              "9970823"
            ]
          },
          "metadata": {},
          "execution_count": 5
        }
      ]
    },
    {
      "cell_type": "markdown",
      "metadata": {
        "id": "4gF7-UQspKlM"
      },
      "source": [
        "### 1. How many commercial chains are monitored, and therefore, included in this database?"
      ]
    },
    {
      "cell_type": "code",
      "metadata": {
        "colab": {
          "base_uri": "https://localhost:8080/"
        },
        "id": "carrk6M8pNpX",
        "outputId": "54efd215-0d5f-4949-895f-adb02d0278ff"
      },
      "source": [
        "from pyspark.sql.functions import countDistinct\n",
        "df_commercial_chains = parDF.select(countDistinct(\"cadenaComercial\"))\n",
        "df_commercial_chains.show()"
      ],
      "execution_count": 21,
      "outputs": [
        {
          "output_type": "stream",
          "name": "stdout",
          "text": [
            "+-------------------------------+\n",
            "|count(DISTINCT cadenaComercial)|\n",
            "+-------------------------------+\n",
            "|                            520|\n",
            "+-------------------------------+\n",
            "\n"
          ]
        }
      ]
    },
    {
      "cell_type": "markdown",
      "metadata": {
        "id": "1vszmBiUp6fY"
      },
      "source": [
        "### 2. What are the top 10 monitored products by State?"
      ]
    },
    {
      "cell_type": "code",
      "metadata": {
        "colab": {
          "base_uri": "https://localhost:8080/"
        },
        "id": "akonLCm2tt5E",
        "outputId": "1f061755-1414-467a-d2a6-deeedef7e97e"
      },
      "source": [
        "df_states = sparkDF.where(col('estado').isNotNull()).select('estado').distinct().show(30,truncate=False)"
      ],
      "execution_count": 11,
      "outputs": [
        {
          "output_type": "stream",
          "name": "stdout",
          "text": [
            "+-------------------------------+\n",
            "|estado                         |\n",
            "+-------------------------------+\n",
            "|QUINTANA ROO                   |\n",
            "|NUEVO LEÓN                     |\n",
            "|SINALOA                        |\n",
            "|TABASCO                        |\n",
            "|TLAXCALA                       |\n",
            "|COAHUILA DE ZARAGOZA           |\n",
            "|VERACRUZ DE IGNACIO DE LA LLAVE|\n",
            "|SONORA                         |\n",
            "|YUCATÁN                        |\n",
            "|MICHOACÁN DE OCAMPO            |\n",
            "|DURANGO                        |\n",
            "|DISTRITO FEDERAL               |\n",
            "|HIDALGO                        |\n",
            "|ZACATECAS                      |\n",
            "|GUANAJUATO                     |\n",
            "|AGUASCALIENTES                 |\n",
            "|OAXACA                         |\n",
            "|PUEBLA                         |\n",
            "|JALISCO                        |\n",
            "|                               |\n",
            "|QUERÉTARO                      |\n",
            "|COLIMA                         |\n",
            "|MÉXICO                         |\n",
            "+-------------------------------+\n",
            "\n"
          ]
        }
      ]
    },
    {
      "cell_type": "markdown",
      "metadata": {
        "id": "-1dzJQMzp9tD"
      },
      "source": [
        "#### Get each state top monitored products"
      ]
    },
    {
      "cell_type": "code",
      "metadata": {
        "id": "ybYZ3MPyqddS"
      },
      "source": [
        "def get_top_products(state):\n",
        "  df_filtered = sparkDF.filter(sparkDF['estado'] == state)      \n",
        "  df_top_producto = df_filtered.groupBy('producto').count().select('producto', f.col('count').alias('count'))\n",
        "  return df_top_producto.orderBy('count', ascending=False).show(10, False)"
      ],
      "execution_count": 56,
      "outputs": []
    },
    {
      "cell_type": "code",
      "metadata": {
        "colab": {
          "base_uri": "https://localhost:8080/"
        },
        "id": "0g7_v8D9tVTG",
        "outputId": "1741e45c-f47c-4f86-eff1-6d186546a163"
      },
      "source": [
        "states = ['QUINTANA ROO',\n",
        "          'NUEVO LEÓN',\n",
        "          'SINALOA',\n",
        "          'TABASCO',\n",
        "          'TLAXCALA',\n",
        "          'COAHUILA DE ZARAGOZA',\n",
        "          'VERACRUZ DE IGNACIO DE LA LLAVE',\n",
        "          'SONORA',\n",
        "          'YUCATÁN',\n",
        "          'MICHOACÁN DE OCAMPO',\n",
        "          'DURANGO',\n",
        "          'DISTRITO FEDERAL',\n",
        "          'HIDALGO',\n",
        "          'ZACATECAS',\n",
        "          'GUANAJUATO',\n",
        "          'AGUASCALIENTES',\n",
        "          'OAXACA',\n",
        "          'PUEBLA',\n",
        "          'JALISCO',\n",
        "          'QUERÉTARO',\n",
        "          'COLIMA',\n",
        "          'MÉXICO']\n",
        "for state in states: \n",
        "  print('INFO: Top monitored products for {}'.format(state))\n",
        "  get_top_products(state)\n",
        "  print('\\n')"
      ],
      "execution_count": 57,
      "outputs": [
        {
          "output_type": "stream",
          "name": "stdout",
          "text": [
            "INFO: Top monitored products for QUINTANA ROO\n",
            "+-----------------------+-----+\n",
            "|producto               |count|\n",
            "+-----------------------+-----+\n",
            "|TELEVISORES            |5555 |\n",
            "|LECHE ULTRAPASTEURIZADA|4223 |\n",
            "|LAVADORAS              |4164 |\n",
            "|COMPONENTES DE AUDIO   |3862 |\n",
            "|DETERGENTE P/ROPA      |3822 |\n",
            "|LICUADORAS             |3094 |\n",
            "|SHAMPOO                |2888 |\n",
            "|JABON DE TOCADOR       |2806 |\n",
            "|MAYONESA               |2806 |\n",
            "|REFRIGERADORES         |2788 |\n",
            "+-----------------------+-----+\n",
            "only showing top 10 rows\n",
            "\n",
            "\n",
            "\n",
            "INFO: Top monitored products for NUEVO LEÓN\n",
            "+-----------------------+-----+\n",
            "|producto               |count|\n",
            "+-----------------------+-----+\n",
            "|DETERGENTE P/ROPA      |11326|\n",
            "|LECHE ULTRAPASTEURIZADA|9264 |\n",
            "|SHAMPOO                |8759 |\n",
            "|CHILES EN LATA         |8583 |\n",
            "|MAYONESA               |8459 |\n",
            "|TELEVISORES            |8350 |\n",
            "|JABON DE TOCADOR       |8118 |\n",
            "|REFRESCO               |7564 |\n",
            "|TORTILLA DE MAIZ       |6692 |\n",
            "|TOALLA FEMENINA        |6364 |\n",
            "+-----------------------+-----+\n",
            "only showing top 10 rows\n",
            "\n",
            "\n",
            "\n",
            "INFO: Top monitored products for SINALOA\n",
            "+-----------------------+-----+\n",
            "|producto               |count|\n",
            "+-----------------------+-----+\n",
            "|DETERGENTE P/ROPA      |5949 |\n",
            "|TELEVISORES            |5042 |\n",
            "|REFRESCO               |4224 |\n",
            "|SHAMPOO                |4213 |\n",
            "|MAYONESA               |4013 |\n",
            "|JABON DE TOCADOR       |3920 |\n",
            "|LECHE ULTRAPASTEURIZADA|3887 |\n",
            "|COMPONENTES DE AUDIO   |3548 |\n",
            "|LAVADORAS              |3483 |\n",
            "|CHILES EN LATA         |3042 |\n",
            "+-----------------------+-----+\n",
            "only showing top 10 rows\n",
            "\n",
            "\n",
            "\n",
            "INFO: Top monitored products for TABASCO\n",
            "+-----------------------+-----+\n",
            "|producto               |count|\n",
            "+-----------------------+-----+\n",
            "|TELEVISORES            |6837 |\n",
            "|DETERGENTE P/ROPA      |5408 |\n",
            "|LECHE ULTRAPASTEURIZADA|4568 |\n",
            "|VARIOS                 |4347 |\n",
            "|LAVADORAS              |4100 |\n",
            "|CHILES EN LATA         |3972 |\n",
            "|COMPONENTES DE AUDIO   |3883 |\n",
            "|LICUADORAS             |3850 |\n",
            "|REFRESCO               |3736 |\n",
            "|CAMARAS DIGITALES      |3713 |\n",
            "+-----------------------+-----+\n",
            "only showing top 10 rows\n",
            "\n",
            "\n",
            "\n",
            "INFO: Top monitored products for TLAXCALA\n",
            "+-----------------------+-----+\n",
            "|producto               |count|\n",
            "+-----------------------+-----+\n",
            "|DETERGENTE P/ROPA      |9282 |\n",
            "|LECHE ULTRAPASTEURIZADA|7487 |\n",
            "|JABON DE TOCADOR       |6544 |\n",
            "|SHAMPOO                |6531 |\n",
            "|REFRESCO               |6505 |\n",
            "|MAYONESA               |5961 |\n",
            "|CHILES EN LATA         |5857 |\n",
            "|TOALLA FEMENINA        |5273 |\n",
            "|ACEITE                 |5119 |\n",
            "|CAFE SOLUBLE           |4694 |\n",
            "+-----------------------+-----+\n",
            "only showing top 10 rows\n",
            "\n",
            "\n",
            "\n",
            "INFO: Top monitored products for COAHUILA DE ZARAGOZA\n",
            "+-----------------------+-----+\n",
            "|producto               |count|\n",
            "+-----------------------+-----+\n",
            "|LECHE ULTRAPASTEURIZADA|2146 |\n",
            "|DETERGENTE P/ROPA      |1886 |\n",
            "|MAYONESA               |1727 |\n",
            "|TORTILLA DE MAIZ       |1640 |\n",
            "|FUD                    |1452 |\n",
            "|SHAMPOO                |1422 |\n",
            "|JABON DE TOCADOR       |1396 |\n",
            "|CHILES EN LATA         |1354 |\n",
            "|TELEVISORES            |1307 |\n",
            "|YOGHURT                |1258 |\n",
            "+-----------------------+-----+\n",
            "only showing top 10 rows\n",
            "\n",
            "\n",
            "\n",
            "INFO: Top monitored products for VERACRUZ DE IGNACIO DE LA LLAVE\n",
            "+-----------------------+-----+\n",
            "|producto               |count|\n",
            "+-----------------------+-----+\n",
            "|LECHE ULTRAPASTEURIZADA|4444 |\n",
            "|DETERGENTE P/ROPA      |3161 |\n",
            "|REFRESCO               |2690 |\n",
            "|TELEVISORES            |2689 |\n",
            "|SHAMPOO                |2252 |\n",
            "|JABON DE TOCADOR       |2159 |\n",
            "|MAYONESA               |2037 |\n",
            "|HUEVO                  |1884 |\n",
            "|LAVADORAS              |1879 |\n",
            "|YOGHURT                |1828 |\n",
            "+-----------------------+-----+\n",
            "only showing top 10 rows\n",
            "\n",
            "\n",
            "\n",
            "INFO: Top monitored products for SONORA\n",
            "+-----------------+-----+\n",
            "|producto         |count|\n",
            "+-----------------+-----+\n",
            "|DETERGENTE P/ROPA|4333 |\n",
            "|TELEVISORES      |4308 |\n",
            "|SHAMPOO          |2956 |\n",
            "|MAYONESA         |2810 |\n",
            "|JABON DE TOCADOR |2628 |\n",
            "|CHILES EN LATA   |2453 |\n",
            "|TORTILLA DE MAIZ |2435 |\n",
            "|DESODORANTE      |2402 |\n",
            "|REFRIGERADORES   |2194 |\n",
            "|LAVADORAS        |2160 |\n",
            "+-----------------+-----+\n",
            "only showing top 10 rows\n",
            "\n",
            "\n",
            "\n",
            "INFO: Top monitored products for YUCATÁN\n",
            "+-----------------------+-----+\n",
            "|producto               |count|\n",
            "+-----------------------+-----+\n",
            "|TELEVISORES            |7795 |\n",
            "|LECHE ULTRAPASTEURIZADA|7400 |\n",
            "|DETERGENTE P/ROPA      |7153 |\n",
            "|FUD                    |5034 |\n",
            "|MAYONESA               |4941 |\n",
            "|SHAMPOO                |4859 |\n",
            "|COMPONENTES DE AUDIO   |4849 |\n",
            "|CHILES EN LATA         |4725 |\n",
            "|LAVADORAS              |4552 |\n",
            "|PLANCHAS               |4447 |\n",
            "+-----------------------+-----+\n",
            "only showing top 10 rows\n",
            "\n",
            "\n",
            "\n",
            "INFO: Top monitored products for MICHOACÁN DE OCAMPO\n",
            "+-----------------------+-----+\n",
            "|producto               |count|\n",
            "+-----------------------+-----+\n",
            "|DETERGENTE P/ROPA      |12309|\n",
            "|LECHE ULTRAPASTEURIZADA|9174 |\n",
            "|REFRESCO               |8826 |\n",
            "|TELEVISORES            |8430 |\n",
            "|MAYONESA               |7596 |\n",
            "|CHILES EN LATA         |7529 |\n",
            "|JABON DE TOCADOR       |7471 |\n",
            "|SHAMPOO                |7381 |\n",
            "|ACEITE                 |6021 |\n",
            "|LAVADORAS              |5941 |\n",
            "+-----------------------+-----+\n",
            "only showing top 10 rows\n",
            "\n",
            "\n",
            "\n",
            "INFO: Top monitored products for DURANGO\n",
            "+--------------------+-----+\n",
            "|producto            |count|\n",
            "+--------------------+-----+\n",
            "|TELEVISORES         |745  |\n",
            "|LAVADORAS           |689  |\n",
            "|DETERGENTE P/ROPA   |686  |\n",
            "|COMPONENTES DE AUDIO|681  |\n",
            "|CHILES EN LATA      |583  |\n",
            "|MAYONESA            |514  |\n",
            "|REFRIGERADORES      |502  |\n",
            "|JABON DE TOCADOR    |492  |\n",
            "|LICUADORAS          |439  |\n",
            "|SHAMPOO             |437  |\n",
            "+--------------------+-----+\n",
            "only showing top 10 rows\n",
            "\n",
            "\n",
            "\n",
            "INFO: Top monitored products for DISTRITO FEDERAL\n",
            "+-----------------------+-----+\n",
            "|producto               |count|\n",
            "+-----------------------+-----+\n",
            "|REFRESCO               |42746|\n",
            "|DETERGENTE P/ROPA      |37223|\n",
            "|LECHE ULTRAPASTEURIZADA|33922|\n",
            "|FUD                    |29409|\n",
            "|MAYONESA               |28217|\n",
            "|CHILES EN LATA         |24885|\n",
            "|JABON DE TOCADOR       |24221|\n",
            "|CERVEZA                |24019|\n",
            "|SHAMPOO                |23622|\n",
            "|YOGHURT                |23459|\n",
            "+-----------------------+-----+\n",
            "only showing top 10 rows\n",
            "\n",
            "\n",
            "\n",
            "INFO: Top monitored products for HIDALGO\n",
            "+-----------------------+-----+\n",
            "|producto               |count|\n",
            "+-----------------------+-----+\n",
            "|TELEVISORES            |4802 |\n",
            "|DETERGENTE P/ROPA      |4012 |\n",
            "|LAVADORAS              |3210 |\n",
            "|LECHE ULTRAPASTEURIZADA|2977 |\n",
            "|SHAMPOO                |2945 |\n",
            "|JABON DE TOCADOR       |2790 |\n",
            "|COMPONENTES DE AUDIO   |2651 |\n",
            "|REFRESCO               |2619 |\n",
            "|REFRIGERADORES         |2487 |\n",
            "|MAYONESA               |2465 |\n",
            "+-----------------------+-----+\n",
            "only showing top 10 rows\n",
            "\n",
            "\n",
            "\n",
            "INFO: Top monitored products for ZACATECAS\n",
            "+-----------------------+-----+\n",
            "|producto               |count|\n",
            "+-----------------------+-----+\n",
            "|DETERGENTE P/ROPA      |5009 |\n",
            "|LECHE ULTRAPASTEURIZADA|3845 |\n",
            "|MAYONESA               |3556 |\n",
            "|JABON DE TOCADOR       |3472 |\n",
            "|SHAMPOO                |3470 |\n",
            "|CHILES EN LATA         |3058 |\n",
            "|TELEVISORES            |2954 |\n",
            "|LICUADORAS             |2865 |\n",
            "|REFRESCO               |2817 |\n",
            "|FUD                    |2783 |\n",
            "+-----------------------+-----+\n",
            "only showing top 10 rows\n",
            "\n",
            "\n",
            "\n",
            "INFO: Top monitored products for GUANAJUATO\n",
            "+-----------------------+-----+\n",
            "|producto               |count|\n",
            "+-----------------------+-----+\n",
            "|TELEVISORES            |8533 |\n",
            "|VARIOS                 |8039 |\n",
            "|DETERGENTE P/ROPA      |7899 |\n",
            "|REFRESCO               |7833 |\n",
            "|LECHE ULTRAPASTEURIZADA|6763 |\n",
            "|JABON DE TOCADOR       |5620 |\n",
            "|LICUADORAS             |5588 |\n",
            "|SHAMPOO                |5473 |\n",
            "|MAYONESA               |5392 |\n",
            "|CHILES EN LATA         |5318 |\n",
            "+-----------------------+-----+\n",
            "only showing top 10 rows\n",
            "\n",
            "\n",
            "\n",
            "INFO: Top monitored products for AGUASCALIENTES\n",
            "+-----------------------+-----+\n",
            "|producto               |count|\n",
            "+-----------------------+-----+\n",
            "|DETERGENTE P/ROPA      |2393 |\n",
            "|LECHE ULTRAPASTEURIZADA|2107 |\n",
            "|SHAMPOO                |1698 |\n",
            "|JABON DE TOCADOR       |1569 |\n",
            "|FUD                    |1534 |\n",
            "|CHILES EN LATA         |1423 |\n",
            "|DESODORANTE            |1373 |\n",
            "|TORTILLA DE MAIZ       |1330 |\n",
            "|MAYONESA               |1279 |\n",
            "|REFRESCO               |1269 |\n",
            "+-----------------------+-----+\n",
            "only showing top 10 rows\n",
            "\n",
            "\n",
            "\n",
            "INFO: Top monitored products for OAXACA\n",
            "+-----------------------+-----+\n",
            "|producto               |count|\n",
            "+-----------------------+-----+\n",
            "|LECHE ULTRAPASTEURIZADA|4115 |\n",
            "|TELEVISORES            |2930 |\n",
            "|DETERGENTE P/ROPA      |2922 |\n",
            "|FUD                    |2385 |\n",
            "|LAVADORAS              |2370 |\n",
            "|TORTILLA DE MAIZ       |2148 |\n",
            "|CHILES EN LATA         |2047 |\n",
            "|SHAMPOO                |2043 |\n",
            "|MAYONESA               |2027 |\n",
            "|YOGHURT                |1941 |\n",
            "+-----------------------+-----+\n",
            "only showing top 10 rows\n",
            "\n",
            "\n",
            "\n",
            "INFO: Top monitored products for PUEBLA\n",
            "+-----------------------+-----+\n",
            "|producto               |count|\n",
            "+-----------------------+-----+\n",
            "|TELEVISORES            |8484 |\n",
            "|LECHE ULTRAPASTEURIZADA|6016 |\n",
            "|DETERGENTE P/ROPA      |6013 |\n",
            "|REFRESCO               |5425 |\n",
            "|LAVADORAS              |4794 |\n",
            "|LICUADORAS             |4773 |\n",
            "|VARIOS                 |4594 |\n",
            "|JABON DE TOCADOR       |4531 |\n",
            "|SHAMPOO                |4486 |\n",
            "|MAYONESA               |4289 |\n",
            "+-----------------------+-----+\n",
            "only showing top 10 rows\n",
            "\n",
            "\n",
            "\n",
            "INFO: Top monitored products for JALISCO\n",
            "+-----------------------+-----+\n",
            "|producto               |count|\n",
            "+-----------------------+-----+\n",
            "|DETERGENTE P/ROPA      |23913|\n",
            "|LECHE ULTRAPASTEURIZADA|20680|\n",
            "|REFRESCO               |18238|\n",
            "|MAYONESA               |17349|\n",
            "|CHILES EN LATA         |16775|\n",
            "|SHAMPOO                |16705|\n",
            "|JABON DE TOCADOR       |16435|\n",
            "|TELEVISORES            |14660|\n",
            "|FUD                    |13852|\n",
            "|TOALLA FEMENINA        |13740|\n",
            "+-----------------------+-----+\n",
            "only showing top 10 rows\n",
            "\n",
            "\n",
            "\n",
            "INFO: Top monitored products for QUERÉTARO\n",
            "+-----------------------+-----+\n",
            "|producto               |count|\n",
            "+-----------------------+-----+\n",
            "|DETERGENTE P/ROPA      |7159 |\n",
            "|LECHE ULTRAPASTEURIZADA|7012 |\n",
            "|TELEVISORES            |6248 |\n",
            "|JABON DE TOCADOR       |4904 |\n",
            "|LAVADORAS              |4691 |\n",
            "|SHAMPOO                |4594 |\n",
            "|CHILES EN LATA         |4574 |\n",
            "|REFRESCO               |4439 |\n",
            "|MAYONESA               |4265 |\n",
            "|VARIOS                 |3979 |\n",
            "+-----------------------+-----+\n",
            "only showing top 10 rows\n",
            "\n",
            "\n",
            "\n",
            "INFO: Top monitored products for COLIMA\n",
            "+-----------------------+-----+\n",
            "|producto               |count|\n",
            "+-----------------------+-----+\n",
            "|TELEVISORES            |3274 |\n",
            "|DETERGENTE P/ROPA      |3039 |\n",
            "|LECHE ULTRAPASTEURIZADA|2899 |\n",
            "|MAYONESA               |2199 |\n",
            "|JABON DE TOCADOR       |2128 |\n",
            "|SHAMPOO                |2025 |\n",
            "|CHILES EN LATA         |1915 |\n",
            "|FUD                    |1777 |\n",
            "|COMPONENTES DE AUDIO   |1748 |\n",
            "|CAMARAS DIGITALES      |1718 |\n",
            "+-----------------------+-----+\n",
            "only showing top 10 rows\n",
            "\n",
            "\n",
            "\n",
            "INFO: Top monitored products for MÉXICO\n",
            "+-----------------------+-----+\n",
            "|producto               |count|\n",
            "+-----------------------+-----+\n",
            "|DETERGENTE P/ROPA      |29351|\n",
            "|REFRESCO               |28508|\n",
            "|FUD                    |22203|\n",
            "|LECHE ULTRAPASTEURIZADA|22002|\n",
            "|MAYONESA               |19716|\n",
            "|JABON DE TOCADOR       |18449|\n",
            "|TELEVISORES            |18191|\n",
            "|SHAMPOO                |17840|\n",
            "|CHILES EN LATA         |17687|\n",
            "|CERVEZA                |16777|\n",
            "+-----------------------+-----+\n",
            "only showing top 10 rows\n",
            "\n",
            "\n",
            "\n"
          ]
        }
      ]
    },
    {
      "cell_type": "markdown",
      "metadata": {
        "id": "CxQmGM1ayFLF"
      },
      "source": [
        "### Which is the commercial chain with the highest number of monitored products?"
      ]
    },
    {
      "cell_type": "code",
      "metadata": {
        "colab": {
          "base_uri": "https://localhost:8080/"
        },
        "id": "6GjTw5lNyJWk",
        "outputId": "9586846e-c481-48cb-8f79-5641deb9654c"
      },
      "source": [
        "df_top_producto = sparkDF.where(col('cadenaComercial').isNotNull()).groupBy('producto', 'cadenaComercial').count().select('cadenaComercial','producto', f.col('count').alias('count'))\n",
        "df_top_producto.orderBy('count', ascending=False).show(10, False)"
      ],
      "execution_count": 43,
      "outputs": [
        {
          "output_type": "stream",
          "name": "stdout",
          "text": [
            "+--------------------------+-----------------------+-----+\n",
            "|cadenaComercial           |producto               |count|\n",
            "+--------------------------+-----------------------+-----+\n",
            "|TORTILLERIAS TRADICIONALES|TORTILLA DE MAIZ       |47264|\n",
            "|WAL-MART                  |DETERGENTE P/ROPA      |27030|\n",
            "|SORIANA                   |DETERGENTE P/ROPA      |25132|\n",
            "|WAL-MART                  |REFRESCO               |23732|\n",
            "|BODEGA AURRERA            |DETERGENTE P/ROPA      |22156|\n",
            "|BODEGA AURRERA            |LECHE ULTRAPASTEURIZADA|22150|\n",
            "|WAL-MART                  |LECHE ULTRAPASTEURIZADA|21779|\n",
            "|BODEGA AURRERA            |REFRESCO               |20920|\n",
            "|SORIANA                   |REFRESCO               |20237|\n",
            "|WAL-MART                  |MAYONESA               |20081|\n",
            "+--------------------------+-----------------------+-----+\n",
            "only showing top 10 rows\n",
            "\n"
          ]
        }
      ]
    },
    {
      "cell_type": "markdown",
      "metadata": {
        "id": "NuRAscxR4sJB"
      },
      "source": [
        "### Use the data to find an interesting fact.\n",
        "* According to the data inspection, there are $52,530,710$ null data, this represents $84\\%$ of the total."
      ]
    },
    {
      "cell_type": "code",
      "metadata": {
        "colab": {
          "base_uri": "https://localhost:8080/"
        },
        "id": "tm65Q3mP5jFe",
        "outputId": "7db269e2-c0ab-4949-b68f-2a2bfdf3a477"
      },
      "source": [
        "dict_null = {col:sparkDF.filter(sparkDF[col].isNull()).count() for col in sparkDF.columns}\n",
        "dict_null"
      ],
      "execution_count": 46,
      "outputs": [
        {
          "output_type": "execute_result",
          "data": {
            "text/plain": [
              "{'cadenaComercial': 52530710,\n",
              " 'catalogo': 52530710,\n",
              " 'categoria': 52530710,\n",
              " 'direccion': 52530710,\n",
              " 'estado': 52530710,\n",
              " 'fechaRegistro': 52530710,\n",
              " 'giro': 52530710,\n",
              " 'latitud': 52912792,\n",
              " 'longitud': 52912792,\n",
              " 'marca': 52530710,\n",
              " 'municipio': 52530710,\n",
              " 'nombreComercial': 52530710,\n",
              " 'precio': 52530710,\n",
              " 'presentacion': 52530710,\n",
              " 'producto': 52530710}"
            ]
          },
          "metadata": {},
          "execution_count": 46
        }
      ]
    },
    {
      "cell_type": "markdown",
      "metadata": {
        "id": "8oGlu4VF7_Q6"
      },
      "source": [
        "Drop null values"
      ]
    },
    {
      "cell_type": "code",
      "metadata": {
        "colab": {
          "base_uri": "https://localhost:8080/"
        },
        "id": "A24nqZoD7-T-",
        "outputId": "0166e545-930c-4b52-edb4-1a2e36da5d94"
      },
      "source": [
        "# Drop Rows with NULL Values on All Columns\n",
        "spark_not_null = spark.read.parquet('/content/download_google_drive/00','/content/download_google_drive/01','/content/download_google_drive/02','/content/download_google_drive/03','/content/download_google_drive/04','/content/download_google_drive/05','/content/download_google_drive/06')\n",
        "spark_not_null = spark_not_null.na.drop('all')"
      ],
      "execution_count": 54,
      "outputs": [
        {
          "output_type": "execute_result",
          "data": {
            "text/plain": [
              "DataFrame[summary: string, producto: string, presentacion: string, marca: string, categoria: string, catalogo: string, precio: string, fechaRegistro: string, cadenaComercial: string, giro: string, nombreComercial: string, direccion: string, estado: string, municipio: string, latitud: string, longitud: string]"
            ]
          },
          "metadata": {},
          "execution_count": 54
        }
      ]
    },
    {
      "cell_type": "markdown",
      "metadata": {
        "id": "7kVQ6wu_rVXu"
      },
      "source": [
        "The most monitored by all states brand is “La Costena” (La Costeña)"
      ]
    },
    {
      "cell_type": "code",
      "metadata": {
        "colab": {
          "base_uri": "https://localhost:8080/"
        },
        "id": "cGQzzdhM-zFN",
        "outputId": "f40ab38c-83b1-4d92-ff1f-af7da2c71530"
      },
      "source": [
        "df_top_brand = spark_not_null.groupBy('marca').count().select('marca', f.col('count').alias('count'))\n",
        "df_top_brand.orderBy('count', ascending=False).show(12, False)"
      ],
      "execution_count": 60,
      "outputs": [
        {
          "output_type": "stream",
          "name": "stdout",
          "text": [
            "+-----------+-------+\n",
            "|marca      |count  |\n",
            "+-----------+-------+\n",
            "|S/M        |2017076|\n",
            "|SIN MARCA  |365084 |\n",
            "|LA COSTENA |212308 |\n",
            "|SAMSUNG    |140352 |\n",
            "|SONY       |107876 |\n",
            "|LG         |104539 |\n",
            "|MC CORMICK |103510 |\n",
            "|OSTER      |98794  |\n",
            "|VERDE VALLE|81352  |\n",
            "|MATTEL     |81112  |\n",
            "|GAMESA     |80417  |\n",
            "|MABE       |76410  |\n",
            "+-----------+-------+\n",
            "only showing top 12 rows\n",
            "\n"
          ]
        }
      ]
    },
    {
      "cell_type": "code",
      "metadata": {
        "colab": {
          "base_uri": "https://localhost:8080/"
        },
        "id": "bllNXRofxftR",
        "outputId": "9166c534-9290-4b7a-b055-bcd106eb8345"
      },
      "source": [
        "df_top_costena = spark_not_null.where(spark_not_null['marca']=='LA COSTENA').groupBy('marca', 'producto').count().select('producto', 'marca', f.col('count').alias('count'))\n",
        "df_top_costena.orderBy('count', ascending=False).show(12, False)"
      ],
      "execution_count": 69,
      "outputs": [
        {
          "output_type": "stream",
          "name": "stdout",
          "text": [
            "+---------------------------+----------+-----+\n",
            "|producto                   |marca     |count|\n",
            "+---------------------------+----------+-----+\n",
            "|CHILES EN LATA             |LA COSTENA|74857|\n",
            "|MAYONESA                   |LA COSTENA|20346|\n",
            "|PURE DE TOMATE             |LA COSTENA|17069|\n",
            "|MERMELADA                  |LA COSTENA|16097|\n",
            "|DURAZNOS EN ALMIBAR        |LA COSTENA|11875|\n",
            "|VINAGRE                    |LA COSTENA|11288|\n",
            "|COCTEL DE FRUTAS EN ALMIBAR|LA COSTENA|11109|\n",
            "|PIÑA EN ALMIBAR            |LA COSTENA|11030|\n",
            "|CHICHAROS EN LATA          |LA COSTENA|10395|\n",
            "|SALSA CATSUP               |LA COSTENA|8795 |\n",
            "|FRIJOLES                   |LA COSTENA|8621 |\n",
            "|MOLE ROJO EN PASTA         |LA COSTENA|5546 |\n",
            "+---------------------------+----------+-----+\n",
            "only showing top 12 rows\n",
            "\n"
          ]
        }
      ]
    },
    {
      "cell_type": "markdown",
      "metadata": {
        "id": "d3QEILh5xAUd"
      },
      "source": [
        "The most monitored presentation is for 1 KG. GRANEL"
      ]
    },
    {
      "cell_type": "code",
      "metadata": {
        "colab": {
          "base_uri": "https://localhost:8080/"
        },
        "id": "O3D6gstjtDLQ",
        "outputId": "4d59286e-e007-4ecd-a454-e75080b1e6ec"
      },
      "source": [
        "df_top_presentation = spark_not_null.groupBy('presentacion').count().select('presentacion', f.col('count').alias('count'))\n",
        "df_top_presentation.orderBy('count', ascending=False).show(12, False)"
      ],
      "execution_count": 67,
      "outputs": [
        {
          "output_type": "stream",
          "name": "stdout",
          "text": [
            "+-----------------------------------+------+\n",
            "|presentacion                       |count |\n",
            "+-----------------------------------+------+\n",
            "|1 KG. GRANEL                       |175580|\n",
            "|1 KG.                              |114414|\n",
            "|BOLSA 500 GR.                      |75137 |\n",
            "|BOLSA 1 KG. POLVO                  |73144 |\n",
            "|CAJA                               |59805 |\n",
            "|BOTELLA 1.5 LT.                    |53138 |\n",
            "|PAQUETE 1 KG.                      |50824 |\n",
            "|BARRA 180 GR.                      |48540 |\n",
            "|1 KG. GRANEL. QUESO MANCHEGO       |42326 |\n",
            "|BOTE 1 KG. FRESA                   |38070 |\n",
            "|PARCIALMENTE DESCREMADA. CAJA 1 LT.|37864 |\n",
            "|BOLSA 375 GR.                      |34628 |\n",
            "+-----------------------------------+------+\n",
            "only showing top 12 rows\n",
            "\n"
          ]
        }
      ]
    },
    {
      "cell_type": "markdown",
      "metadata": {
        "id": "QGMpgGkZn1B8"
      },
      "source": [
        "# Resources\n",
        "* VIDEO FOR THIS CHALLENGE: https://youtu.be/bVFRHpaaRjs\n",
        "* https://blog.datasyndrome.com/python-and-parquet-performance-e71da65269ce\n",
        "* https://towardsdatascience.com/pyspark-and-sparksql-basics-6cb4bf967e53\n",
        "* https://sparkbyexamples.com/pyspark/pyspark-read-and-write-parquet-file/\n",
        "* https://towardsdatascience.com/pyspark-and-sparksql-basics-6cb4bf967e53\n"
      ]
    }
  ]
}